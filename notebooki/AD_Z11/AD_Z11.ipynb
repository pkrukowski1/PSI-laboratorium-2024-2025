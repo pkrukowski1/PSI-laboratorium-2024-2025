{
 "cells": [
  {
   "cell_type": "markdown",
   "metadata": {},
   "source": [
    "# Laboratorium nr 11 - Sieci neuronowe (na bazie notebooka przygotowanego przed Dominika Matuszka na Olimpijskie Koło Sztucznej Inteligencji Uniwersytetu Jagiellońskiego)\n",
    "\n",
    "Na dzisiejszych zajęciach zajmiemy się sieciami neuronowymi -- konkretnie: \n",
    "\n",
    "* omówimy architekturę perceptrona, pokażemy jego implementację i omówimy jego ograniczenia,\n",
    "* rozwiążemy problemy z pojedynczym perceptronem za pomocą perceptrona wielowarstwowego (MLP),\n",
    "* omówimy pojęcia związane z trenowaniem MLP: rozmiar batcha, learning rate."
   ]
  },
  {
   "cell_type": "markdown",
   "metadata": {},
   "source": [
    "## Perceptron\n",
    "\n",
    "Najprostszym przykładem sieci neuronowej jest **perceptron**. Omówimy teraz jego architekturę. \n",
    "\n",
    "### Zadanie perceptrona\n",
    "\n",
    "Perceptron dokonuje klasyfikacji binarnej -- to znaczy dla odpowiedniego zestawu danych liczbowych przypisuje im jedną z dwóch klas. \n",
    "\n",
    "Przykłady:\n",
    "* mamy dane dwie wartości boolowskie $x_1, x_2 \\in \\{0, 1\\}$ i chcemy na wyjściu otrzymać wartościowanie zdania logicznego $x_1 \\land x_2$;\n",
    "* mamy dane dwie wartości boolowskie $x_1, x_2 \\in \\{0, 1\\}$ i chcemy na wyjściu otrzymać wartościowanie zdania logicznego $x_1 \\lor x_2$;\n",
    "* mniej trywialne: mamy procentowe dane o wynikach z kolokwiów studentów danego przedmiotu i chcemy na ich podstawie przewidzieć, czy student zda egzamin końcowy; \n",
    "\n",
    "### Wejście \n",
    "\n",
    "Perceptron na wejściu przyjmuje wektor liczb rzeczywistych o długości `n`, dla ustalonego `n`. \n",
    "\n",
    "### Wyjście\n",
    "\n",
    "Perceptron na wyjściu zwraca jedną liczbę rzeczywistą -- nazwijmy ją `y`. Jeśli $y \\geq 0$, to interpretujemy to tak, że perceptron przypisuje dane wejściowe do klasy `1`, w przeciwnym wypadku do klasy `0`.\n",
    "\n",
    "### Architektura \n",
    "\n",
    "Perceptron posiada tak zwane **wagi**. Są one liczbami rzeczywistymi i jest ich tyle, ile wynosi długość wektora wejściowego. Będą one modyfikowane w procesie uczenia, ale o tym za chwilę.\n",
    "\n",
    "Dla wartości na wejściu $x_1, x_2, \\dots, x_n$ oraz wag $w_1, w_2, \\dots, w_n$ perceptron oblicza wartość wyjścia jako:\n",
    "\n",
    "$$\n",
    "y = x_1 \\cdot w_1 + x_2 \\cdot w_2 + \\dots + x_n \\cdot w_n\n",
    "$$\n",
    "\n",
    "To tyle. \n",
    "\n",
    "Wygodnie jest traktować wejście jako wektor $X = (x_1, x_2, \\dots, x_n)$ oraz wagi jako wektor $W = (w_1, w_2, \\dots, w_n)$. Wówczas wyjście jest po prostu iloczynem skalarnym tych wektorów:\n",
    "\n",
    "$$\n",
    "y = X \\odot W\n",
    "$$\n",
    "\n",
    "<img src=\"images/perceptron.png\" alt=\"Perceptron\" width=\"600\"/>\n",
    "\n",
    "### Uczenie \n",
    "\n",
    "Pozostaje jedno, jedyne pytanie: jak \"nauczyć\" perceptron wag? Ogólny algorytm wygląda tak:\n",
    "\n",
    "1. Inicjalizujemy wagi losowymi wartościami (lub zerami).\n",
    "2. Poniższe punkty powtarzamy wielokrotnie, aż wyniki nie będą satysfakcjonujące:\n",
    "    1. Losujemy przykład treningowy ze zbioru uczącego, czyli jakiś wektor wejściowy $X$ oraz oczekiwane wyjście $y_{\\mathrm{true}}$, gdzie $y_{\\mathrm{true}} \\in \\{0, 1\\}$ oznacza do której klasy należy wektor $X$.\n",
    "    2. Obliczamy wyjście perceptronu dla wejścia $X$, obliczając $y = X \\cdot W$ i sprawdzając, czy $y \\geq 0$ (czyli sprawdzamy do jakiej klasy przypisuje perceptron wektor $X$), otrzymując $y_{\\mathrm{pred}} \\in \\{0, 1\\}$.\n",
    "    3. Porównujemy odpowiedź perceptrona $y_{\\mathrm{pred}}$ z poprawną odpowiedzią $y_{\\mathrm{true}}$.\n",
    "        * Jeśli $y_{\\mathrm{pred}} = y_{\\mathrm{true}}$, to nic nie robimy i przechodzimy do wylosowania kolejnego przykładu treningowego.\n",
    "        * Jeśli $y_{\\mathrm{pred}} \\neq y_{\\mathrm{true}}$, to znaczy że perceptron odpowiedział źle. Musimy więc zatem zmodyfiować jego wagi. Wagi zmieniamy w następujący sposób:\n",
    "            * Jeśli $y_{\\mathrm{pred}} = 0$ i $y_{\\mathrm{true}} = 1$, to znaczy że wynik obliczony przez perceptron był mniejszy od zera, a powinien być większy. **Wykonujemy modyfikację wag: $W := W + X$.**\n",
    "            * Jeśli $y_{\\mathrm{pred}} = 1$ i $y_{\\mathrm{true}} = 0$, to znaczy że wynik obliczony przez perceptron był większy od zera, a powinien być mniejszy. **Wykonujemy modyfikację wag: $W := W - X$.**\n",
    "\n",
    "### Intuicja za sensownością modyfikacji wag\n",
    "\n",
    "Oczywiście, można zadać pytanie: dlaczego modyfikujemy wagi akurat w taki sposób, dodając (lub odejmując) $X$ do wektora wag $W$? Żeby przedstawić intuicję stojącą za tym podejściem, załóżmy że perceptron przypisał nam jakiś wektor $X$ do klasy 0, a chcieliśmy by przypisał do klasy 1.\n",
    "\n",
    "Zgodnie z naszym algorytmem, zmodyfikujemy wówczas wektor wag następująco:\n",
    "\n",
    "$$\n",
    "\n",
    "W := W + X\n",
    "\n",
    "$$ \n",
    "\n",
    "Pokażmy, że po tej modyfikacji perceptron być może nie będzie jeszcze przypisować wektora $X$ do klasy 1, ale otrzymywane wartości będą bliższe tej klasy niż przed modyfikacją. Aby to pokazać rozważmy różnicę:\n",
    "\n",
    "$$\n",
    "X \\odot (W + X) - X \\odot W \n",
    "$$\n",
    "\n",
    "Jeśli będzie ona dodatnia, to znaczy że perceptron \"przybliży\" się do przypisania wektora $X$ do klasy 1 (bo będzie zwracać większe wartosci dla $X$). Rozpiszmy to:\n",
    "\n",
    "$$\n",
    "X \\odot (W + X) - X \\odot W = X \\odot W + X \\odot X - X \\odot W = X \\odot X = x_1^2 + x_2^2 + \\dots + x_n^2 \\geq 0\n",
    "$$\n",
    "\n",
    "Analogiczne rozumowanie działa w przypadku, gdy chcemy by perceptron przypisał wektor $X$ do klasy 0.\n",
    "\n",
    "Intuicja jest taka, że ,,przybliżając się'' do pożądanej klasy dla instancji dla których perceptron działa źle, w końcu zoptymalizujemy go tak by działał w miarę sensownie. "
   ]
  },
  {
   "cell_type": "markdown",
   "metadata": {},
   "source": [
    "Zaimplementujmy teraz perceptron w kodzie na prostym przykładzie."
   ]
  },
  {
   "cell_type": "code",
   "execution_count": null,
   "metadata": {},
   "outputs": [],
   "source": [
    "import numpy as np \n",
    "import random \n",
    "\n",
    "from sklearn.datasets import make_blobs\n",
    "from matplotlib import pyplot as plt "
   ]
  },
  {
   "cell_type": "code",
   "execution_count": 2,
   "metadata": {},
   "outputs": [],
   "source": [
    "# Użyjemy funkcji make_blobs z sklearn by zrobić przykładowy dataset\n",
    "\n",
    "points, labels = make_blobs(\n",
    "    n_samples=100,\n",
    "    n_features=2,\n",
    "    centers=2,\n",
    "    random_state=42\n",
    ")"
   ]
  },
  {
   "cell_type": "code",
   "execution_count": 3,
   "metadata": {},
   "outputs": [
    {
     "data": {
      "image/png": "[encoded data removed]",
      "text/plain": [
       "<Figure size 640x480 with 1 Axes>"
      ]
     },
     "metadata": {},
     "output_type": "display_data"
    }
   ],
   "source": [
    "# Zwizualizujmy dataset\n",
    "\n",
    "def plot_data_2d(points, labels, ax):\n",
    "    x_coords = points[:, 0]\n",
    "    y_coords = points[:, 1]\n",
    "\n",
    "    ax.scatter(x_coords, y_coords, c=labels)\n",
    "\n",
    "fig, ax = plt.subplots()\n",
    "\n",
    "plot_data_2d(points, labels, ax)\n",
    "\n",
    "plt.show()"
   ]
  },
  {
   "cell_type": "markdown",
   "metadata": {},
   "source": [
    "## Zadanie nr 1 (2 punkty)\n",
    "Dokończ poniższą implementację Perceptrona."
   ]
  },
  {
   "cell_type": "code",
   "execution_count": null,
   "metadata": {},
   "outputs": [],
   "source": [
    "# Implementacja perceptrona\n",
    "\n",
    "class Perceptron:\n",
    "    def __init__(self, data_dim: int):\n",
    "        self.data_dim = data_dim\n",
    "        self.weights = np.zeros(data_dim)\n",
    "    \n",
    "    def predict(self, x: np.ndarray) -> bool:\n",
    "        raise NotImplementedError(\"Implement the predict method\")\n",
    "    \n",
    "    def train(self, X: np.ndarray, y: np.ndarray, steps: int):\n",
    "        n_samples, data_dim = X.shape\n",
    "\n",
    "        if data_dim != self.data_dim:\n",
    "            raise ValueError(\"Data dimension mismatch\")\n",
    "\n",
    "        for _ in range(steps):\n",
    "           raise NotImplementedError(\"Implement the training loop\")\n"
   ]
  },
  {
   "cell_type": "markdown",
   "metadata": {},
   "source": [
    "Teraz możemy go wytrenować."
   ]
  },
  {
   "cell_type": "code",
   "execution_count": 5,
   "metadata": {},
   "outputs": [],
   "source": [
    "perceptron = Perceptron(data_dim=2)\n",
    "perceptron.train(points, labels, steps=100)"
   ]
  },
  {
   "cell_type": "markdown",
   "metadata": {},
   "source": [
    "Zwizualizujmy teraz wyniki klasyfikacji."
   ]
  },
  {
   "cell_type": "code",
   "execution_count": 6,
   "metadata": {},
   "outputs": [
    {
     "data": {
      "image/png": "[encoded data removed]",
      "text/plain": [
       "<Figure size 640x480 with 1 Axes>"
      ]
     },
     "metadata": {},
     "output_type": "display_data"
    }
   ],
   "source": [
    "def visualise_perceptron_prediction(perceptron, data_points, ax):\n",
    "    predictions = [perceptron.predict(point) for point in data_points]\n",
    "    predictions = [int(pred) for pred in predictions]\n",
    "    predictions = np.array(predictions)\n",
    "\n",
    "    x_coords = data_points[:, 0]\n",
    "    y_coords = data_points[:, 1]\n",
    "\n",
    "    ax.scatter(x_coords, y_coords, c=predictions)\n",
    "\n",
    "    return ax \n",
    "\n",
    "fig, ax = plt.subplots(nrows=1, ncols=1)\n",
    "\n",
    "visualise_perceptron_prediction(perceptron, points, ax)\n",
    "\n",
    "plt.show()"
   ]
  },
  {
   "cell_type": "markdown",
   "metadata": {},
   "source": [
    "### Obserwacja\n",
    "\n",
    "Perceptron oblicza wartość funkcji $x_1 \\cdot w_1 + x_2 \\cdot w_2 + \\dots + x_n \\cdot w_n$. Jest to funkcja liniowa. Jak wiemy również, przyporządkowuje on do klasy 0 wtedy, gdy:\n",
    "\n",
    "$$\n",
    "\n",
    "x_1 \\cdot w_1 + x_2 \\cdot w_2 + \\dots + x_n \\cdot w_n < 0\n",
    "\n",
    "$$ \n",
    "\n",
    "Czyli decision boundary jest dane funkcją liniową. Możemy ją zwizualizować."
   ]
  },
  {
   "cell_type": "code",
   "execution_count": null,
   "metadata": {},
   "outputs": [
    {
     "data": {
      "image/png": "[encoded data removed]",
      "text/plain": [
       "<Figure size 640x480 with 1 Axes>"
      ]
     },
     "metadata": {},
     "output_type": "display_data"
    }
   ],
   "source": [
    "def visualise_decision_boundary_2d(perceptron, ax, min_x = -5, max_x = 5):\n",
    "    \n",
    "    # Ax + By = 0\n",
    "    weights = perceptron.weights # [A, B]\n",
    "\n",
    "    A = weights[0]\n",
    "    B = weights[1]\n",
    "\n",
    "    if B == 0: \n",
    "        ax.axvline(x=-A, color='red', label='Decision boundary')\n",
    "        return\n",
    "\n",
    "    # y = (-A/B) x\n",
    "\n",
    "    x_coeff = -A / B\n",
    "\n",
    "    x = np.linspace(min_x, max_x, 100)\n",
    "    y = x * x_coeff\n",
    "\n",
    "    ax.plot(x, y, color='red', label='Decision boundary')\n",
    "\n",
    "fig, ax = plt.subplots(nrows=1, ncols=1)\n",
    "min_x, max_x = np.min(points[:, 0]), np.max(points[:, 0])\n",
    "\n",
    "plot_data_2d(points, labels, ax)\n",
    "visualise_decision_boundary_2d(perceptron, ax, min_x, max_x)\n",
    "\n",
    "plt.legend()\n",
    "plt.show()"
   ]
  },
  {
   "cell_type": "markdown",
   "metadata": {},
   "source": [
    "### Wady obecnej implementacji\n",
    "\n",
    "Niestety, obecna implementacja perceptrona nie jest bez wad. Zobaczmy co się stanie dla nieco innego (ale również prostego) zbioru danych."
   ]
  },
  {
   "cell_type": "code",
   "execution_count": 8,
   "metadata": {},
   "outputs": [],
   "source": [
    "points = np.array(\n",
    "    [\n",
    "    [0, 0.75], # label: 0\n",
    "    [1, 0.75], # label: 0 \n",
    "    [2, 0.75], # label: 0\n",
    "    [0, 1.5], # label: 1\n",
    "    [1, 1.5], # label: 1\n",
    "    [2, 1.5]  # label: 1\n",
    "    ]\n",
    ")\n",
    "\n",
    "labels = np.array(\n",
    "    [0, 0, 0, 1, 1, 1]\n",
    ")"
   ]
  },
  {
   "cell_type": "code",
   "execution_count": 9,
   "metadata": {},
   "outputs": [
    {
     "data": {
      "image/png": "[encoded data removed]",
      "text/plain": [
       "<Figure size 640x480 with 1 Axes>"
      ]
     },
     "metadata": {},
     "output_type": "display_data"
    }
   ],
   "source": [
    "fig, ax = plt.subplots(nrows=1, ncols=1)\n",
    "\n",
    "plot_data_2d(points, labels, ax)\n",
    "\n",
    "plt.show()"
   ]
  },
  {
   "cell_type": "code",
   "execution_count": 10,
   "metadata": {},
   "outputs": [],
   "source": [
    "perceptron = Perceptron(data_dim=2)\n",
    "perceptron.train(points, labels, steps=100)"
   ]
  },
  {
   "cell_type": "code",
   "execution_count": 11,
   "metadata": {},
   "outputs": [
    {
     "data": {
      "image/png": "[encoded data removed]",
      "text/plain": [
       "<Figure size 640x480 with 1 Axes>"
      ]
     },
     "metadata": {},
     "output_type": "display_data"
    }
   ],
   "source": [
    "fig, ax = plt.subplots(nrows=1, ncols=1)\n",
    "\n",
    "plot_data_2d(points, labels, ax)\n",
    "visualise_decision_boundary_2d(perceptron, ax, min_x=0, max_x=2)\n",
    "\n",
    "plt.legend()\n",
    "plt.show()"
   ]
  },
  {
   "cell_type": "markdown",
   "metadata": {},
   "source": [
    "Dlaczego tak jest? Otóż zauważmy, że obecnie decision boundary jest funkcją liniową postaci\n",
    "\n",
    "$$ w_1 x + w_2 y = 0 $$\n",
    "\n",
    "lub \n",
    "\n",
    "$$ y = -\\frac{w_1}{w_2} x $$\n",
    "\n",
    "Brakuje nam wyrazu wolnego, a w konsekwencji decision boundary oprócz tego że jest funkcją liniową, to musi przechodzić przez punkt $(0, 0)$."
   ]
  },
  {
   "cell_type": "markdown",
   "metadata": {},
   "source": [
    "### Zadanie nr 2 (1 punkt)\n",
    "\n",
    "Popraw implementację perceptrona tak, by decision boundary mógł być dowolną funkcją liniową. Będzie wymagało to dodania dodatkowego parametru $b$. Funkcja obliczana przez perceptron będzie wówczas postaci:\n",
    "\n",
    "$$\n",
    "y = X \\odot W + b\n",
    "$$\n",
    "\n",
    "Update'owanie wag pozostanie bez zmian, natomiast do parametru $b$ będziemy po prostu dodawać lub odejmować $1$ w zależnie od sytuacji. Przetestuj model na powyższych danych."
   ]
  },
  {
   "cell_type": "code",
   "execution_count": null,
   "metadata": {},
   "outputs": [],
   "source": [
    "class PerceptronWithBias:\n",
    "    def __init__(self, data_dim: int):\n",
    "        self.data_dim = data_dim\n",
    "        self.weights = np.zeros(data_dim)\n",
    "        self.bias = 0\n",
    "\n",
    "    def predict(self, x: np.ndarray) -> bool:\n",
    "        raise NotImplementedError(\"Implement the predict method\")\n",
    "    \n",
    "    def train(self, X: np.ndarray, y: np.ndarray, steps: int):\n",
    "        n_samples, data_dim = X.shape\n",
    "\n",
    "        if data_dim != self.data_dim:\n",
    "            raise ValueError(\"Data dimension mismatch\")\n",
    "\n",
    "        for _ in range(steps):\n",
    "           raise NotImplementedError(\"Implement the training loop\")"
   ]
  },
  {
   "cell_type": "markdown",
   "metadata": {},
   "source": [
    "Zanim zwizualizujemy działanie modelu, zmienimy implementację funkcji od wizualizacji tak, by uwzględniała dodatkowy parametr $b$."
   ]
  },
  {
   "cell_type": "code",
   "execution_count": 13,
   "metadata": {},
   "outputs": [],
   "source": [
    "def visualise_decision_boundary_2d(perceptron, ax, min_x = -5, max_x = 5):\n",
    "    \n",
    "    # Ax + By + C = 0\n",
    "    weights = perceptron.weights # [A, B]\n",
    "\n",
    "    A = weights[0]\n",
    "    B = weights[1]\n",
    "\n",
    "    if B == 0: \n",
    "        ax.axvline(x=-A, color='red', label='Decision boundary')\n",
    "        return\n",
    "\n",
    "    try: \n",
    "        C = perceptron.bias\n",
    "    except AttributeError:\n",
    "        C = 0\n",
    "\n",
    "    # y = (-A/B) x - C/B\n",
    "\n",
    "    x_coeff = -A / B\n",
    "\n",
    "    x = np.linspace(min_x, max_x, 100)\n",
    "    y = x * x_coeff - C / B\n",
    "\n",
    "    ax.plot(x, y, color='red', label='Decision boundary')"
   ]
  },
  {
   "cell_type": "code",
   "execution_count": 14,
   "metadata": {},
   "outputs": [
    {
     "name": "stdout",
     "output_type": "stream",
     "text": [
      "Weights: [0. 3.]\n",
      "Bias: -4\n"
     ]
    },
    {
     "data": {
      "image/png": "[encoded data removed]",
      "text/plain": [
       "<Figure size 640x480 with 1 Axes>"
      ]
     },
     "metadata": {},
     "output_type": "display_data"
    }
   ],
   "source": [
    "perceptron = PerceptronWithBias(data_dim=2)\n",
    "perceptron.train(points, labels, steps=100)\n",
    "\n",
    "fig, ax = plt.subplots(nrows=1, ncols=1)\n",
    "\n",
    "plot_data_2d(points, labels, ax)\n",
    "visualise_decision_boundary_2d(perceptron, ax, min_x=0, max_x=2)\n",
    "\n",
    "print(\"Weights:\", perceptron.weights)\n",
    "print(\"Bias:\", perceptron.bias)"
   ]
  },
  {
   "cell_type": "markdown",
   "metadata": {},
   "source": [
    "Jest natomiast pewien oczywisty problem z obecną implementacją: bias jest aktualizowany zawsze o $1$, w związku z czym może przybrać tylko wartości całkowite. \n",
    "\n",
    "Jeśli dobierzemy dane nieco złośliwiej, to perceptron się niczego nie nauczy."
   ]
  },
  {
   "cell_type": "code",
   "execution_count": 15,
   "metadata": {},
   "outputs": [
    {
     "data": {
      "image/png": "[encoded data removed]",
      "text/plain": [
       "<Figure size 640x480 with 1 Axes>"
      ]
     },
     "metadata": {},
     "output_type": "display_data"
    }
   ],
   "source": [
    "points = np.array(\n",
    "    [\n",
    "    [0, 0.75], # label: 0\n",
    "    [1, 0.75], # label: 0 \n",
    "    [2, 0.75], # label: 0\n",
    "    [0, 0.9], # label: 1\n",
    "    [1, 0.9], # label: 1\n",
    "    [2, 0.9]  # label: 1\n",
    "    ]\n",
    ")\n",
    "\n",
    "labels = np.array(\n",
    "    [0, 0, 0, 1, 1, 1]\n",
    ")\n",
    "\n",
    "perceptron = PerceptronWithBias(data_dim=2)\n",
    "perceptron.train(points, labels, steps=100)\n",
    "\n",
    "fig, ax = plt.subplots(nrows=1, ncols=1)\n",
    "\n",
    "plot_data_2d(points, labels, ax)\n",
    "visualise_decision_boundary_2d(perceptron, ax, min_x=0, max_x=2)"
   ]
  },
  {
   "cell_type": "markdown",
   "metadata": {},
   "source": [
    "### Zadanie 3 (1 punkt)\n",
    "\n",
    "By radzić sobie z problemem takim jak ten, wprowadza się hiperparametr $\\eta$, nazywany jako **learning rate**. Jest on liczbą rzeczywistą, która \"steruje\" tym jak bardzo \"dotkliwe\" mają być update'y wag. Z jego zastosowaniem, update wag w perceptronie będzie wyglądał tak:\n",
    "\n",
    "$$\n",
    "W := W \\pm \\eta \\cdot X\n",
    "$$\n",
    "\n",
    "a biasu:\n",
    "\n",
    "$$\n",
    "b := b \\pm \\eta\n",
    "$$\n",
    "\n",
    "Twoim zadaniem jest dodać learning rate do implementacji perceptronu. Przetestuj model na powyższych danych."
   ]
  },
  {
   "cell_type": "code",
   "execution_count": null,
   "metadata": {},
   "outputs": [],
   "source": [
    "class PerceptronWithBiasAndLearningRate:\n",
    "    def __init__(self, data_dim: int):\n",
    "        self.data_dim = data_dim\n",
    "        self.weights = np.zeros(data_dim)\n",
    "        self.bias = 0\n",
    "\n",
    "    def predict(self, x: np.ndarray) -> bool:\n",
    "       raise NotImplementedError(\"Implement the predict method\")\n",
    "    \n",
    "    def train(self, X: np.ndarray, y: np.ndarray, steps: int, learning_rate: float):\n",
    "        n_samples, data_dim = X.shape\n",
    "\n",
    "        if data_dim != self.data_dim:\n",
    "            raise ValueError(\"Data dimension mismatch\")\n",
    "\n",
    "        for _ in range(steps):\n",
    "           raise NotImplementedError(\"Implement the training loop\")"
   ]
  },
  {
   "cell_type": "code",
   "execution_count": 17,
   "metadata": {},
   "outputs": [
    {
     "data": {
      "image/png": "[encoded data removed]",
      "text/plain": [
       "<Figure size 640x480 with 1 Axes>"
      ]
     },
     "metadata": {},
     "output_type": "display_data"
    }
   ],
   "source": [
    "perceptron = PerceptronWithBiasAndLearningRate(data_dim=2)\n",
    "perceptron.train(points, labels, steps=1000, learning_rate=0.1)\n",
    "\n",
    "fig, ax = plt.subplots(nrows=1, ncols=1)\n",
    "\n",
    "plot_data_2d(points, labels, ax)\n",
    "visualise_decision_boundary_2d(perceptron, ax, min_x=0, max_x=2)\n",
    "\n",
    "plt.show()"
   ]
  },
  {
   "cell_type": "markdown",
   "metadata": {},
   "source": [
    "Mamy perceptron który działa! Spróbujmy teraz zastosować go do przewidywania wyniku prostej funkcji logicznej: XOR. Załączamy tabelkę wartościowania funkcji XOR.\n",
    "\n",
    "|$x_1$|$x_2$|$x_1$ xor $x_2$|\n",
    "|:-:|:-:|:-:|\n",
    "|1|1|0|\n",
    "|1|0|1|\n",
    "|0|1|1|\n",
    "|0|0|0|"
   ]
  },
  {
   "cell_type": "code",
   "execution_count": 19,
   "metadata": {},
   "outputs": [
    {
     "data": {
      "image/png": "[encoded data removed]",
      "text/plain": [
       "<Figure size 640x480 with 1 Axes>"
      ]
     },
     "metadata": {},
     "output_type": "display_data"
    }
   ],
   "source": [
    "points = np.array(\n",
    "    [\n",
    "        [1, 1], # label: 0\n",
    "        [1, 0], # label: 1\n",
    "        [0, 1], # label: 1\n",
    "        [0, 0]  # label: 0\n",
    "    ]\n",
    ")\n",
    "\n",
    "labels = np.array(\n",
    "    [0, 1, 1, 0]\n",
    ")\n",
    "\n",
    "perceptron = PerceptronWithBiasAndLearningRate(data_dim=2)\n",
    "\n",
    "perceptron.train(points, labels, steps=1000, learning_rate=0.1)\n",
    "\n",
    "fig, ax = plt.subplots(nrows=1, ncols=1)\n",
    "\n",
    "plot_data_2d(points, labels, ax)\n",
    "visualise_decision_boundary_2d(perceptron, ax, min_x=0, max_x=1)"
   ]
  },
  {
   "cell_type": "markdown",
   "metadata": {},
   "source": [
    "Niestety: te 2 klasy nie są liniowo separowalne i perceptron tutaj sobie nie poradzi :(. Na szczęście mamy na to sposób -- skoro jeden perceptron nie podołał, to użyjemy wielu!"
   ]
  },
  {
   "cell_type": "markdown",
   "metadata": {},
   "source": [
    "## Multi-layer Perceptron (MLP)\n",
    "\n",
    "Perceptron wielowarstwowy jest typem sieci neuronowej, która składa się z wielu \"warstw\" równoległych do siebie perceptronów. Intuicyjnie, w obrębie danej warstwy każdy perceptron \"dostaje\" na wejście to samo. Następnie wyjścia wszystkich perceptronów z danej warstwy przekazywane są perceptronowi z kolejnej warstwy.\n",
    "\n",
    "Rozmiarem warstwy będziemy nazywać liczbę równoległych do siebie perceptronów w jej obrębie. \n",
    "\n",
    "Wyjściem perceptronu wielowarstwowego jest wyjście z ostatniej warstwy.\n",
    "\n",
    "Poniższa grafika przedstawia dwuwarstwowy perceptron, w którym: \n",
    "\n",
    "* Wejście jest wektorem w $(x_1, x_2, x_3) \\in \\mathbb{R}^3$;\n",
    "* pierwsza warstwa ma rozmiar 3 (więc jej wyjściem będzie wektor  $ (y_1, y_2, y_3) \\in \\mathbb{R}^3$)\n",
    "* druga warstwa ma rozmiar 1, a jej wyjściem jest wektor $(y, ) \\in \\mathbb{R}^1$.\n",
    "\n",
    "<p align=\"center\">\n",
    "<img src=\"images/mlp.png\" alt=\"Perceptron wielowarstwowy\" width=\"300\"/>\n",
    "</p>"
   ]
  },
  {
   "cell_type": "markdown",
   "metadata": {},
   "source": [
    "### Notacja\n",
    "\n",
    "Zauważmy, że podczas gdy intuicyjnie koncept perceptrona wielowarstwowego nie jest specjalnie skomplikowany, notacyjnie sprawy się pogorszyły -- mamy wiele perceptronów i każdy coś sobie oblicza. \n",
    "\n",
    "Z tego powodu zmieńmy notację która jest na powyższym rysunku na następującą:\n",
    "\n",
    "* $s^{(i)}$ to rozmiar (czyli liczba perceptronów) w $i$-tej warstwie.\n",
    "* $W^{(i)}_{a, \\; b}$ to $a$-ta waga w $b$-tym perceptronie w $i$-tej warstwie. \n",
    "* $x^{(i)}_{j}$ to $j$-ty element wektora z danymi dla perceptronów w $i$-tej warstwie.\n",
    "* $y^{(i)}_{j}$ to $j$-ty element wektora stanowiącymi wyjścia perceptronów z $i$-tej warstwy.\n",
    "\n",
    "\"Przepiszmy\" sytuację z powyższego obrazka na tę notację, byśmy się upewnili że to rozumiemy: \n",
    "\n",
    "* Wektor z wejściami do sieci oznaczymy jako $x^{(1)} = \\begin{bmatrix}x^{(1)}_1 \\; x^{(1)}_2 \\; x^{(1)}_3 \\end{bmatrix}$\n",
    "* Pierwszy perceptron z pierwszej warstwy wykona obliczenie $y^{(1)}_{1} = \\sum^3_{i=1} x^{(1)}_{i} \\cdot W^{(1)}_{i, \\; 1} = x^{(1)} \\odot W^{(1)}_{:, \\; 1}$ \n",
    "* Drugi perceptron z drugiej warstwy wykona obliczenie $y^{(1)}_{2} = \\sum^3_{i=1} x^{(1)}_{i} \\cdot W^{(1)}_{i, \\; 2} = x^{(1)} \\odot W^{(1)}_{:, \\; 2}$ \n",
    "* Trzeci perceptron wykona analogiczne obliczenie.\n",
    "* Wektor $y^{(1)} = \\begin{bmatrix}y^{(1)}_1 \\; y^{(1)}_2 \\; y^{(1)}_3 \\end{bmatrix}$ to jednocześnie wejście do drugiej warstwy, czyli $y^{(1)} = x^{(2)}$.\n",
    "* Pojedynczy perceptron z drugiej warstwy wykona obliczenie $y^{(2)}_1 = x^{(2)} \\odot W^{(2)}_{:, \\; 1}$ \n",
    "\n",
    "Poza tym:\n",
    "* $s^{(1)} = 3$\n",
    "* $s^{(2)} = 1$\n",
    "\n",
    "(Autor notebooka z góry przeprasza wszystkich za \"przeczołganie\" przez przykład notacji, ale formalne zanotowanie działania MLP jest czymś, co co najmniej raz w życiu trzeba zrobić.)\n",
    "\n",
    "Zauważmy, że rozpatrywanie pojedynczych perceptronów w obrębie danej warstwy jest... smutne. Na szczęście z ratunkiem przychodzi nam następująca obserwacja:"
   ]
  },
  {
   "cell_type": "markdown",
   "metadata": {},
   "source": [
    "$$\n",
    "\n",
    "\\begin{align*}\n",
    "    \\begin{bmatrix}\n",
    "        x^{(i)}_1 & x^{(i)}_2 & x^{(i)}_3 \\; \\dots \\; x^{(i)}_{s^{(i-1)}} \\\\\n",
    "    \\end{bmatrix} &\\cdot \\begin{bmatrix}\n",
    "        W^{(i)}_{1, \\; 1} & W^{(i)}_{1, \\; 2} & \\dots & W^{(i)}_{1,\\; s^{(i)}}\\\\\n",
    "        W^{(i)}_{2, \\; 1} & W^{(i)}_{2, \\; 2} & \\dots & W^{(i)}_{2,\\; s^{(i)}} \\\\ \n",
    "        \\vdots & \\vdots & \\ddots & \\vdots \\\\ \n",
    "        W^{(i)}_{s^{(i-1)}, \\; 1} & W^{(i)}_{s^{(i-1)}, \\; 2} & \\dots & W^{(i)}_{s^{(i-1)}, \\; s^{(i)}}\n",
    "    \\end{bmatrix} \\\\ &= \n",
    "    \\begin{bmatrix}\n",
    "    y^{(i)}_1 & y^{(i)}_2 & \\dots & y^{(i)}_{s^{(i)}}\n",
    "    \\end{bmatrix}\n",
    "\\end{align*}\n",
    "\n",
    "$$"
   ]
  },
  {
   "cell_type": "markdown",
   "metadata": {},
   "source": [
    "Innymi słowy: wyjście $i$-tej warstwy to wektor który uzyskujemy po prostu mnożąc wektor wejścia z macierzą wag. I tyle. Tym samym wszystko to jesteśmy w stanie bardzo prosto zaimplementować w Pythonie:"
   ]
  },
  {
   "cell_type": "code",
   "execution_count": 47,
   "metadata": {},
   "outputs": [],
   "source": [
    "class MLPLayer:\n",
    "    def __init__(self, in_dim: int, out_dim: int):\n",
    "        self.weights = np.random.randn(in_dim, out_dim)\n",
    "        \n",
    "        self.in_dim = in_dim\n",
    "        self.out_dim = out_dim\n",
    "        \n",
    "    def forward(self, x: np.ndarray) -> np.ndarray:\n",
    "        # x shape: (1, in_dim)\n",
    "        # weights shape: (in_dim, out_dim)\n",
    "        return np.matmul(x, self.weights)"
   ]
  },
  {
   "cell_type": "markdown",
   "metadata": {},
   "source": [
    "Uwaga: (bardzo uparcie) będziemy zakładać, że wejścia do warstw mają \"sztuczny\" wymiar (1,) z przodu -- innymi słowy, tak naprawdę nie są wektorami, a macierzami o wymiarach $1 \\times \\mathrm{długość wejścia}$. Nie wchodźmy w to dlaczego tak robimy -- dowiemy się na końcu Notebooka (gdy to założenie pozwoli nam na osiągnięcie czegoś _fajnego_)."
   ]
  },
  {
   "cell_type": "markdown",
   "metadata": {},
   "source": [
    "Omawiany przykład w takiej sytuacji może doczekać się prostej implementacji."
   ]
  },
  {
   "cell_type": "code",
   "execution_count": 48,
   "metadata": {},
   "outputs": [
    {
     "name": "stdout",
     "output_type": "stream",
     "text": [
      "5.111083597633594\n"
     ]
    }
   ],
   "source": [
    "layer_1 = MLPLayer(in_dim=3, out_dim=3)\n",
    "layer_2 = MLPLayer(in_dim=3, out_dim=1)\n",
    "\n",
    "x_1 = np.array([[1, 2, 3]])\n",
    "\n",
    "y_1 = layer_1.forward(x_1)\n",
    "y_2 = layer_2.forward(y_1)\n",
    "\n",
    "print(y_2.item())\n"
   ]
  },
  {
   "cell_type": "markdown",
   "metadata": {},
   "source": [
    "## Zadanie nr 4 (1 punkt)\n",
    "\n",
    "W przypadku perceptrona wprowadziliśmy sobie w pewnym momencie _bias_. Nasza implementacja MLP go pomija. Twoim zadaniem jest to naprawić! "
   ]
  },
  {
   "cell_type": "code",
   "execution_count": null,
   "metadata": {},
   "outputs": [],
   "source": [
    "class MLPLayerWithBias(MLPLayer):\n",
    "    def __init__(self, in_dim: int, out_dim: int):\n",
    "        super().__init__(in_dim, out_dim)\n",
    "        \n",
    "        self.bias = np.random.randn(1, out_dim)\n",
    "        \n",
    "    def forward(self, x: np.ndarray) -> np.ndarray:\n",
    "        raise NotImplementedError(\"Implement the forward method\")"
   ]
  },
  {
   "cell_type": "markdown",
   "metadata": {},
   "source": [
    "Rozwiązanie możemy przetestować."
   ]
  },
  {
   "cell_type": "code",
   "execution_count": 50,
   "metadata": {},
   "outputs": [],
   "source": [
    "layer_1 = MLPLayerWithBias(in_dim=3, out_dim=3)\n",
    "\n",
    "layer_1.weights = np.array([[1, 2, 3],\n",
    "                            [1, 2, 3],\n",
    "                            [1, 2, 3]])\n",
    "\n",
    "layer_1.bias = np.array([[10, 20, 30]])\n",
    "\n",
    "# Pierwszy perceptron z wagami (1, 1, 1) i biasem 10\n",
    "# Drugi perceptron z wagami (2, 2, 2) i biasem 20\n",
    "# Trzeci perceptron z wagami (3, 3, 3) i biasem 30\n",
    "\n",
    "data = np.array([[1, 1, 1]])\n",
    "output = np.squeeze(layer_1.forward(data))\n",
    "\n",
    "assert output[0] == 13 # 1*1 + 1*1 + 1*1 + 10\n",
    "assert output[1] == 26 # 1*2 + 1*2 + 1*2 + 20\n",
    "assert output[2] == 39 # 1*3 + 1*3 + 1*3 + 30\n"
   ]
  },
  {
   "cell_type": "markdown",
   "metadata": {},
   "source": [
    "## Zaraz zaraz\n",
    "\n",
    "Zauważmy, że operacje które wykonuje nasze MLP (bez biasu) możemy zapisać jako: \n",
    "\n",
    "$$ \n",
    "y^{(n)} = (((x^{(1)} \\cdot W^{(1)}) \\cdot W^{(2)}) \\cdot \\dots) \\cdot W^{(n)}\n",
    "$$\n",
    "\n",
    "gdzie $n$ to liczba warstw.\n",
    "\n",
    "Mnożenie macierzy jest łączne, więc niezależnie jak ponawiasujemy otrzymamy ten sam wynik, więc to samo możemy zapisać jako: \n",
    "\n",
    "$$ \n",
    "y^{(n)} = x^{(1)} \\cdot (W^{(1)} \\cdot W^{(2)} \\cdot \\dots \\cdot W^{(n)})\n",
    "$$\n",
    "\n",
    "Wynik mnożenia wszystkich tych macierzy to jakaś macierz $W'$, więc finalnie otrzymujemy\n",
    "\n",
    "$$\n",
    "y^{(n)} = x^{(1)} \\cdot W'\n",
    "$$\n",
    "\n",
    "Co tak naprawdę kolapsuje nam dowolnie wielowarstwowe MLP do MLP z jedną warstwą, o rozmiarze takim jaki był rozmiar ostatniej warstwy. Dla klasyfikacji binarnej rozpatrujemy obecnie sytuacje gdzie ostatnia warstwa ma rozmiar 1, więc to wszystko możemy zapisać jako... perceptron.\n",
    "\n",
    "**A to oznacza że jeśli perceptron nie będzie \"umieć\" czegoś się nauczyć, to takie MLP również tego nie będzie \"umieć\"**.\n",
    "\n",
    "I tak: jeśli dodamy tutaj bias, to sytuacja się nie poprawi (zweryfikowanie tego faktu pozostawiamy jako ćwiczenie dla czytelnika).\n",
    "\n",
    "Czy to koniec tego notebooka? \n",
    "\n",
    "(nie)\n",
    "\n",
    "Powitajmy to, co nas ratuje w tej sytuacji: **funkcje aktywacji**!\n",
    "\n",
    "<p align=\"center\">\n",
    "<img src=\"images/activation.png\" alt=\"Perceptron z funkcjami aktywacji\" width=\"600\"/>\n",
    "</p>\n"
   ]
  },
  {
   "cell_type": "markdown",
   "metadata": {},
   "source": [
    "W porównaniu do poprzedniego Perceptrona, \"wyniki\" działania poszczególnych warstw przepuszczamy jeszcze przez pewne funkcje. Wymagamy od nich efektywnie 2 rzeczy:\n",
    "\n",
    "* Niebycia wielomianami (w szczególności: niebycia funkcjami liniowymi)\n",
    "* Różniczkowalności (to się przyda za chwilę do uczenia)\n",
    "\n",
    "Przykładem funkcji która spełnia oba te warunki jest tak zwane **ReLU** (ang. *rectified linear unit*):\n",
    "\n",
    "$$\n",
    "\\mathrm{ReLU}(x) = \\mathrm{max}(x, 0)\n",
    "$$\n",
    "\n",
    "<p align=\"center\">\n",
    "<img src=\"images/relu.png\" alt=\"Wykres funkcji ReLU\" width=\"300\"/>\n",
    "</p>"
   ]
  },
  {
   "cell_type": "markdown",
   "metadata": {},
   "source": [
    "Tak naprawdę ta funkcja nie jest różniczkowalna w zerze, ale nie ma to dla nas znaczenia. Jej pochodna to $1$ jeśli $x>0$ i $0$ jeśli $x<0$; (do naszych celów, o których za chwilę) możemy założyć że pochodna w zerze to $0$ (lub $1$) i w gruncie rzeczy nic się nie stanie."
   ]
  },
  {
   "cell_type": "markdown",
   "metadata": {},
   "source": [
    "Można udowodnić, że MLP o takiej architekturze są w stanie przybliżyć niemal dowolną \"sensowną\" funkcję. W szczególności: wprowadzenie tego typu funkcji aktywacji \"psuje\" argument redukujący MLP do Perceptrona, który padł wcześniej.\n",
    "\n",
    "Zaimplementujemy funkcję ReLU w kodzie."
   ]
  },
  {
   "cell_type": "code",
   "execution_count": 51,
   "metadata": {},
   "outputs": [],
   "source": [
    "class ReLU:\n",
    "    def forward(self, x: np.ndarray) -> np.ndarray:\n",
    "        return np.maximum(x, 0)"
   ]
  },
  {
   "cell_type": "markdown",
   "metadata": {},
   "source": [
    "Szybko poszło."
   ]
  },
  {
   "cell_type": "code",
   "execution_count": 52,
   "metadata": {},
   "outputs": [
    {
     "name": "stdout",
     "output_type": "stream",
     "text": [
      "[[0 0 1]]\n"
     ]
    }
   ],
   "source": [
    "relu = ReLU()\n",
    "input_data = np.array([[-1, 0, 1]])\n",
    "\n",
    "output = relu.forward(input_data)\n",
    "\n",
    "print(output)"
   ]
  },
  {
   "cell_type": "markdown",
   "metadata": {},
   "source": [
    "Istnieją również inne funkcje aktywacji. Jedną z takich funkcji jest **sigmoid**, dany wzorem: \n",
    "\n",
    "$$ \n",
    "\\sigma(x) = \\frac{1}{1 + e^{-x}}\n",
    "$$\n",
    "\n",
    "Jego wykres przedstawia się następująco: \n",
    "\n",
    "<p align=\"center\">\n",
    "<img src=\"images/sigmoid.png\" alt=\"Wykres funkcji sigmoid\" width=\"300\"/>\n",
    "</p>"
   ]
  },
  {
   "cell_type": "code",
   "execution_count": null,
   "metadata": {},
   "outputs": [],
   "source": [
    "class Sigmoid:\n",
    "    def forward(self, x: np.ndarray) -> np.ndarray:\n",
    "        return 1 / (1 + np.exp(-x))"
   ]
  },
  {
   "cell_type": "code",
   "execution_count": null,
   "metadata": {},
   "outputs": [],
   "source": [
    "sigmoid = Sigmoid()\n",
    "\n",
    "input_data = np.array([[-10, 0, 10]])\n",
    "output = sigmoid.forward(input_data)\n",
    "\n",
    "assert np.allclose(output, [0, 0.5, 1], atol=1e-4)\n",
    "assert np.allclose(sigmoid.forward(np.array([[1]])), 0.73105858)"
   ]
  },
  {
   "cell_type": "markdown",
   "metadata": {},
   "source": [
    "W praktyce, w przypadku klasyfikacji binarnej sigmoidę stosujemy do wyjścia z \"ostatniego\" perceptrona. W ten sposób nasza sieć zwraca wartości z przedziału $(0, 1)$ które możemy prosto interpretować jako jej \"pewność\" w wyborze klasy numer 1. \n",
    "\n",
    "Przykładowo: jeśli sieć zwróci wynik $0.001$ będziemy to interpretować jako bardzo wysoką pewność w wyborze klasy $0$, a jeśli wybierze $0.999$ -- jako bardzo wysoką pewność w wyborze klasy $1$. Z kolei zaś $0.4$ można potraktować jako klasę $0$, a $0.6$ jako klasę 1 -- w obu przypadkach z istotnie niższym \"przekonaniem\" modelu. "
   ]
  },
  {
   "cell_type": "markdown",
   "metadata": {},
   "source": [
    "Pozbierajmy wszystko co mamy w jedną sieć."
   ]
  },
  {
   "cell_type": "code",
   "execution_count": null,
   "metadata": {},
   "outputs": [
    {
     "name": "stdout",
     "output_type": "stream",
     "text": [
      "0.12852059507949648\n"
     ]
    }
   ],
   "source": [
    "layer_1 = MLPLayerWithBias(in_dim=3, out_dim=3)\n",
    "relu = ReLU()\n",
    "layer_2 = MLPLayerWithBias(in_dim=3, out_dim=1)\n",
    "sigmoid = Sigmoid()\n",
    "\n",
    "x_1 = np.array([[1, 2, 3]])\n",
    "y_1 = layer_1.forward(x_1)\n",
    "z_1 = relu.forward(y_1)\n",
    "\n",
    "y_2 = layer_2.forward(z_1)\n",
    "z_2 = sigmoid.forward(y_2)\n",
    "\n",
    "print(z_2.item())"
   ]
  },
  {
   "cell_type": "markdown",
   "metadata": {},
   "source": [
    "Kod ten implementuje sieć z tej ilustracji: \n",
    "\n",
    "<p align=\"center\">\n",
    "<img src=\"images/activation.png\" alt=\"Perceptron z funkcjami aktywacji\" width=\"600\"/>\n",
    "</p>\n",
    "\n",
    "(którą już widzieliśmy).\n",
    "\n",
    "Funkcją $f$ na tym obrazku jest $\\mathrm{ReLU}$, a funkcją $g$ -- sigmoid."
   ]
  },
  {
   "cell_type": "markdown",
   "metadata": {},
   "source": [
    "## Trening \n",
    "\n",
    "Wiemy już jak działa MLP -- teraz pora na tę trudniejszą część, czyli zrozumienie algorytmu nauczania tej sieci. Niestety, perceptron learning który działał dla jednego perceptrona tutaj (siłą rzeczy) nie zadziała; musimy podejść do tego tematu inaczej. \n",
    "\n",
    "### Funkcja straty\n",
    "\n",
    "Na początek zdefiniujemy coś takiego jak **funkcja straty**. Intuicyjnie, będzie ona mówić jak źle \"idzie\" przewidywanie określonej klasy.\n",
    "\n",
    "Przykładem takiej funkcji (i tym czego będziemy używać) jest błąd średniokwadratowy (mean squared error -- MSE). Definiowany jest on dla par wektorów $Y, \\hat{Y} \\in \\mathbb{R}^n$ i prezentuje się następująco: \n",
    "\n",
    "$$\n",
    "    \\frac{1}{n} \\sum_{i=1}^{n} (y_i - \\hat{y}_i)^2\n",
    "$$\n",
    "\n",
    "\n",
    "W naszym przypadku (klasyfikacja binarna) output modelu jest wektorem $\\hat{Y} \\in \\mathbb{R}^1$, a więc strata średniokwadratowa dla naszego modelu będzie wynosić:\n",
    "\n",
    "$$\n",
    "(Y - \\hat{Y})^2\n",
    "$$\n",
    "\n",
    "gdzie $Y$ to ground truth label danej klasy.\n",
    "\n",
    "Przykładowo:\n",
    "\n",
    "* Jeśli dla jakiegoś zestawu danych model otrzyma $0.8$, a \"poprawna odpowiedź\" co do klasy to $1$, to funkcja straty w tym przypadku wyniesie $(1 - 0.8)^2 = 0.04$\n",
    "* Jeśli dla jakiegoś zestawu danych model otrzyma $0.99$, a \"poprawna odpowiedź\" co do klasy to $0$, to funkcja straty w tym przypadku wyniesie $(0 - 0.99)^2 = 0.99^2$\n",
    "\n",
    "**Uwaga.** Od funkcji straty będziemy żądać, żeby była różniczkowalna ze względu na $\\hat{Y}$ (zaraz zobaczymy dlaczego).\n",
    "\n",
    "Ogólnie: widać, że im gorzej model się \"spisuje\" tym większa będzie jego funkcja straty. Analogicznie -- im lepiej mu idzie, tym niższa ona będzie."
   ]
  },
  {
   "cell_type": "code",
   "execution_count": 56,
   "metadata": {},
   "outputs": [],
   "source": [
    "class MSE:\n",
    "    def forward(self, y_true: np.ndarray, y_pred: np.ndarray) -> np.ndarray:\n",
    "        return np.mean((y_true - y_pred) ** 2)"
   ]
  },
  {
   "cell_type": "markdown",
   "metadata": {},
   "source": [
    "### Nasz cel\n",
    "\n",
    "Chcemy znaleźć taki zbiór wag $\\{ W^{(1)}, W^{(2)}, \\dots, W^{(n)} \\}$ że sieć dla niego minimalizuje funkcję straty na zbiorze uczącym. \n",
    "\n",
    "Do tego celu użyjemy metody gradientowej. Parametry naszej sieci będziemy \"przesuwać\" przeciwnie do kierunku gradientu. Innymi słowy, każdą wagę będziemy update'ować: \n",
    "\n",
    "$$\n",
    "W^{(i)}_{a \\; b} := W^{(i)}_{a \\; b} - \\eta \\cdot \\frac{\\partial L}{\\partial W^{(i)}_{a \\; b}}\n",
    "$$\n",
    "\n",
    "gdzie $L$ jest funkcją straty (w naszym przypadku: MSE), a $\\eta$ to *learning rate*.\n",
    "\n",
    "Czyli, w gruncie rzeczy: możemy podejść do tego tak analogicznie jak w perceptron learning (losujemy przykład, \"przepuszczamy\" przez model), tylko że zamiast sprawdzać poprawność liczymy funkcję straty, a każdą wagę update'ujemy bazując na pochodnej funkcji straty po niej samej. Podobnie jak w Perceptron Learning występuje tutaj parametr $\\eta$ -- z bardzo analogicznych przyczyn.\n",
    "\n",
    "Wszystko fajnie, ale jak policzyć te pochodne? \n",
    "\n",
    "**Zastanówmy się jak zrobić to źle**: możemy policzyć pochodne cząstkowe z definicji dla każdej wagi. To znaczy: aby obliczyć $\\frac{\\partial L}{\\partial W^{(i)}_{a \\; b}}$:\n",
    "\n",
    "* obliczamy wartośc funkcji straty -- nazwijmy ją $E_1$\n",
    "* obliczamy funkcję straty dla tej samej sieci i dla tego samego przykładu, ale wykonujemy podstawienie $\\partial W^{(i)}_{a \\; b} := \\partial W^{(i)}_{a \\; b} + \\varepsilon$, gdzie $\\varepsilon$ to jakaś bardzo mała liczba. Tak otrzymaną wartość nazwijmy ją $E_2$\n",
    "* z definicji pochodnej cząstkowej, $\\frac{\\partial L}{\\partial W^{(i)}_{a \\; b}} \\approx \\frac{E_2 - E_1}{\\varepsilon}$\n",
    "\n",
    "Jest to bardzo niewydajna metoda: dla każdej wagi musimy wykonać dodatkową ewaluację danych na modelu by wykonać *jeden krok*. Jeśli mamy miliony wag w naszym MLP, nie skończy się to dobrze.\n",
    "\n",
    "Możemy jednak zobaczyć taki kod \"w akcji\" by przekonać się, że faktycznie działa (dla małych sieci). Spróbujemy pokonać już teraz problem XOR (który -- przypomnijmy -- pokonał Perceptron)."
   ]
  },
  {
   "cell_type": "code",
   "execution_count": 57,
   "metadata": {},
   "outputs": [],
   "source": [
    "# Brzydki kod, ale nie ma sensu pisać ładniejszego -- i tak nie należy tak robić :)\n",
    "\n",
    "layer_1 = MLPLayerWithBias(in_dim=2, out_dim=3)\n",
    "relu = ReLU()\n",
    "layer_2 = MLPLayerWithBias(in_dim=3, out_dim=1)\n",
    "sigmoid = Sigmoid()\n",
    "\n",
    "mse = MSE()\n",
    "\n",
    "input_data = np.array(\n",
    "[\n",
    "    [1, 1], # 0 \n",
    "    [1, 0], # 1\n",
    "    [0, 1], # 1\n",
    "    [0, 0]  # 0\n",
    "])\n",
    "\n",
    "output_data = np.array([[0], [1], [1], [0]])"
   ]
  },
  {
   "cell_type": "code",
   "execution_count": 58,
   "metadata": {},
   "outputs": [],
   "source": [
    "def predict_example(x: np.ndarray) -> np.ndarray:\n",
    "    y_1 = layer_1.forward(x)\n",
    "    z_1 = relu.forward(y_1)\n",
    "\n",
    "    y_2 = layer_2.forward(z_1)\n",
    "    z_2 = sigmoid.forward(y_2)\n",
    "    \n",
    "    return z_2"
   ]
  },
  {
   "cell_type": "code",
   "execution_count": 59,
   "metadata": {},
   "outputs": [],
   "source": [
    "def get_loss_for_example(x: np.ndarray, y_true: np.ndarray) -> np.ndarray:\n",
    "    y_pred = predict_example(x)\n",
    "\n",
    "    return mse.forward(y_true=y_true, y_pred=y_pred)"
   ]
  },
  {
   "cell_type": "code",
   "execution_count": 60,
   "metadata": {},
   "outputs": [],
   "source": [
    "def get_gradient(x: np.ndarray, y_true: np.ndarray) -> np.ndarray:\n",
    "    eps = 1e-4\n",
    "    base_loss = get_loss_for_example(x, y_true)\n",
    "\n",
    "    layer_1_weight_gradients = np.zeros_like(layer_1.weights)\n",
    "    layer_2_weight_gradients = np.zeros_like(layer_2.weights)\n",
    "\n",
    "    layer_1_bias_gradients = np.zeros_like(layer_1.bias)\n",
    "    layer_2_bias_gradients = np.zeros_like(layer_2.bias)\n",
    "\n",
    "    # Przepraszam.\n",
    "\n",
    "    for i in range(layer_1.weights.shape[0]):\n",
    "        for j in range(layer_1.weights.shape[1]):\n",
    "            layer_1.weights[i, j] += eps\n",
    "            new_loss = get_loss_for_example(x, y_true)\n",
    "            layer_1.weights[i, j] -= eps\n",
    "\n",
    "            layer_1_weight_gradients[i, j] = (new_loss - base_loss) / eps\n",
    "    \n",
    "    for i in range(layer_2.weights.shape[0]):\n",
    "        for j in range(layer_2.weights.shape[1]):\n",
    "            layer_2.weights[i, j] += eps\n",
    "            new_loss = get_loss_for_example(x, y_true)\n",
    "            layer_2.weights[i, j] -= eps\n",
    "\n",
    "            layer_2_weight_gradients[i, j] = (new_loss - base_loss) / eps\n",
    "\n",
    "    for i in range(layer_1.bias.shape[1]):\n",
    "        layer_1.bias[0, i] += eps\n",
    "        new_loss = get_loss_for_example(x, y_true)\n",
    "        layer_1.bias[0, i] -= eps\n",
    "\n",
    "        layer_1_bias_gradients[0, i] = (new_loss - base_loss) / eps\n",
    "    \n",
    "    for i in range(layer_2.bias.shape[1]):\n",
    "        layer_2.bias[0, i] += eps\n",
    "        new_loss = get_loss_for_example(x, y_true)\n",
    "        layer_2.bias[0, i] -= eps\n",
    "\n",
    "        layer_2_bias_gradients[0, i] = (new_loss - base_loss) / eps\n",
    "\n",
    "    \n",
    "    return layer_1_weight_gradients, layer_2_weight_gradients, layer_1_bias_gradients, layer_2_bias_gradients, base_loss\n"
   ]
  },
  {
   "cell_type": "markdown",
   "metadata": {},
   "source": [
    "## Zadanie nr 5 (2 punkty)\n",
    "Dokończ implementację poniższego kodu, którego celem jest nauczenie sieci neuronowej złożonej z dwóch warstw liniowych i dwóch nieliniowych funkcji aktywacji.\n",
    "\n",
    "Wskazówka: Przyda się funkcja _get_gradient_."
   ]
  },
  {
   "cell_type": "code",
   "execution_count": null,
   "metadata": {},
   "outputs": [
    {
     "name": "stdout",
     "output_type": "stream",
     "text": [
      "Epoch 0, average loss: 0.444133666203746\n",
      "Epoch 100, average loss: 0.1976844202860538\n",
      "Epoch 200, average loss: 0.11520949021901125\n",
      "Epoch 300, average loss: 0.02747756835194538\n",
      "Epoch 400, average loss: 0.010524852013621884\n",
      "Epoch 500, average loss: 0.005788740391180847\n",
      "Epoch 600, average loss: 0.003801902959180155\n",
      "Epoch 700, average loss: 0.002762348562805985\n",
      "Epoch 800, average loss: 0.0021357055204621\n",
      "Epoch 900, average loss: 0.0017198912873906663\n"
     ]
    }
   ],
   "source": [
    "learning_rate = 0.1\n",
    "epochs = 1000 # Epoka jest to liczba oznaczająca ile razy \"przejdziemy\" przez cały zbiór danych\n",
    "\n",
    "\n",
    "for epoch in range(epochs):\n",
    "    average_loss = 0\n",
    "\n",
    "    for x, y_true in zip(input_data, output_data):\n",
    "\n",
    "       raise NotImplementedError(\"Implement the training loop\")\n",
    "\n",
    "    if epoch % 100 == 0:\n",
    "        print(f\"Epoch {epoch}, average loss: {average_loss / len(input_data)}\")"
   ]
  },
  {
   "cell_type": "code",
   "execution_count": 62,
   "metadata": {},
   "outputs": [
    {
     "name": "stdout",
     "output_type": "stream",
     "text": [
      "Prediction for [1 1]: [[0.04088854]]\n",
      "Prediction for [1 0]: [[0.95842816]]\n",
      "Prediction for [0 1]: [[0.96323603]]\n",
      "Prediction for [0 0]: [[0.03059888]]\n"
     ]
    }
   ],
   "source": [
    "for x in input_data:\n",
    "    print(f\"Prediction for {x}: {predict_example(x)}\")"
   ]
  },
  {
   "cell_type": "markdown",
   "metadata": {},
   "source": [
    "Czyli udało nam się nauczyć MLP które prawidłowo rozwiązuje problem XOR!"
   ]
  },
  {
   "cell_type": "markdown",
   "metadata": {},
   "source": [
    "Jak już powiedzieliśmy wcześniej -- metoda tego typu jest bardzo niewydajna (zwłaszcza jeśli mamy dużo wag). Na szczęście jednak możemy wyliczać pochodne sprawniej stosując algorytm nazywany **propagacją wsteczną** (ang. *backpropagation*). W dalszej części notebooka zajmiemy się właśnie tym algorytmem."
   ]
  },
  {
   "cell_type": "markdown",
   "metadata": {},
   "source": [
    "Żeby zrozumieć ten algorytm, będziemy potrzebowali trochę obliczeń matematycznych. Aby się nie pogubić w tym co się dzieje, przypomnijmy stosowaną notację:\n",
    "\n",
    "* $s^{(i)}$ to rozmiar (czyli liczba perceptronów) w $i$-tej warstwie.\n",
    "* $W^{(i)}_{a, \\; b}$ to $a$-ta waga w $b$-tym perceptronie w $i$-tej warstwie. \n",
    "* $x^{(i)}_{j}$ to $j$-ty element wektora z danymi dla perceptronów w $i$-tej warstwie.\n",
    "* $y^{(i)}_{j}$ to $j$-ty element wektora **nieaktywowanych** wyjść perceptronów z $i$-tej warstwy.\n",
    "\n",
    "Oprócz tego (po tym jak wprowadziliśmy notację) pojawiły się również biasy i funkcje aktywacji. Musimy uwzględnić je w notacji:\n",
    "* $z^{(i)}_{j}$ to $j$-ty element wektora **aktywowanych** wyjść perceptronów z $i$-tej warstwy.\n",
    "* $b^{(i)}_{j}$ to bias $j$-tego perceptrona w $i$-tej warstwie.\n",
    "* $f^{(i)}$ to i-ta funkcja aktywacji.\n",
    "* $L$ to funkcja straty.\n",
    "\n",
    "Ponadto, oznaczmy przez $n$ liczbę warstw w modelu, tak by $z^{(n)}$ to było wyjście z ostatniej warstwy.\n",
    "\n",
    "Zatem:\n",
    "\n",
    "$$\n",
    "y^{(i)} = x^{(i)} \\cdot W^{(i)} + b^{(i)}\n",
    "$$\n",
    "\n",
    "$$\n",
    "z^{(i)} = f^{(i)}(y^{(i)}) \n",
    "$$\n",
    "\n",
    "$$\n",
    "x^{(i+1)} = z^{(i)}\n",
    "$$"
   ]
  },
  {
   "cell_type": "markdown",
   "metadata": {},
   "source": [
    "Będziemy teraz próbowali liczyć pochodne funkcji straty po różnych wartościach obliczanych przez model, licząc że w ten sposób uda nam się \"dojść\" do wzoru na pochodną funkcji straty po wagach i biasach (bo tego szukamy)."
   ]
  },
  {
   "cell_type": "markdown",
   "metadata": {},
   "source": [
    "Zauważmy, że dla każdego $j$, $\\frac{\\partial L}{\\partial z^{(i)}_j}$ mamy za darmo, o ile funkcja straty jest różniczkowalna (i mamy zwarty wzór na jej pochodną w dowolnym punkcie).\n",
    "\n",
    "W przypadku MSE i $z^{(i)} \\in \\mathbb{R}^m$ mamy: \n",
    "\n",
    "$$\n",
    "\\begin{align*}\n",
    "    \\frac{\\partial L}{\\partial z^{(i)}_j} =& \\\\\n",
    "    \\frac{\\partial}{\\partial z^{(i)}_j} \\frac{1}{m} \\sum_{k=1}^{m} (y_{\\mathrm{true}_k} - z^{(i)}_k)^2 &= \\\\\n",
    "    \\frac{\\partial}{\\partial z^{(i)}_j} \\frac{1}{m} \\left(\\left(\\sum_{k=1 \\;;\\; k \\neq j}^{m} (y_{\\mathrm{true}_k} - z^{(i)}_k)^2 \\right) + (y_{\\mathrm{true}_j} - z^{(i)}_j)^2 \\right) &= \\\\\n",
    "    \\frac{1}{m} \\frac{\\partial}{\\partial z^{(i)}_j} (y_{\\mathrm{true}_j} - z^{(i)}_j)^2 &= \\\\\n",
    "    -\\frac{2}{m} (y_{\\mathrm{true}_j} - z^{(i)}_j)\n",
    "\\end{align*}\n",
    "$$\n",
    "\n",
    "U nas $m=1$, jako że zakładamy że w ostatniej warstwie mamy tylko jeden perceptron, skąd dochodzimy do:\n",
    "\n",
    "$$\n",
    "\\frac{\\partial L}{\\partial z^{(i)}_1} = -2 (y_{\\mathrm{true}_1} - z^{(i)}_1)\n",
    "$$\n",
    "\n",
    "Zapis ten jeszcze można uprościć, bo indeksowanie jednoelementowych wektorów w matematyce może zaciemniać obraz (czyli po prostu założymy że jednoelementowy wektor to skalar)\n",
    "\n",
    "$$\n",
    "\\frac{\\partial L}{\\partial z^{(i)}} = -2 (y_{\\mathrm{true}} - z^{(i)})\n",
    "$$\n"
   ]
  },
  {
   "cell_type": "markdown",
   "metadata": {},
   "source": [
    "Dobra, to jeszcze nie wydaje się specjalnie użyteczne, ale coś dostaliśmy. Zmieńmy implementację funkcji straty tak, by potrafiła liczyć swój gradient. To się jeszcze kiedyś przyda :). \n",
    "\n",
    "\"Umiejętność liczenia gradientu\" będziemy implementować tak, że warstwa będzie sama pamiętać jakie argumenty dostała poprzednio, a metoda `backward` będzie elegancko zwracać gradient, korzystając z tych danych. Obecnie to może wydawać się dziwna decyzja, ale za niedługo się przekonamy że jest ona całkiem wygodna."
   ]
  },
  {
   "cell_type": "code",
   "execution_count": 63,
   "metadata": {},
   "outputs": [],
   "source": [
    "class MSE:\n",
    "    def __init__(self):\n",
    "        self.recent_y_true = None\n",
    "        self.recent_y_pred = None\n",
    "\n",
    "    def forward(self, y_true: np.ndarray, y_pred: np.ndarray) -> np.ndarray:\n",
    "        self.recent_y_true = y_true\n",
    "        self.recent_y_pred = y_pred\n",
    "\n",
    "        return np.mean((y_true - y_pred) ** 2)\n",
    "    \n",
    "    def backward(self) -> np.ndarray:\n",
    "        return -2 * (self.recent_y_true - self.recent_y_pred)"
   ]
  },
  {
   "cell_type": "markdown",
   "metadata": {},
   "source": [
    "Hm, spróbujmy teraz może policzyć \n",
    "\n",
    "$$\n",
    "    \\frac{\\partial z^{(i)}_j}{\\partial y^{(i)}_j}\n",
    "$$\n",
    "\n",
    "czyli pochodną aktywowanych wartości po nieaktywowanych wartościach. Przypomnijmy, że:\n",
    "\n",
    "$$\n",
    "z^{(i)} = f^{(i)}(y^{(i)}) \n",
    "$$\n",
    "\n",
    "więc: \n",
    "\n",
    "$$\n",
    "    \\frac{\\partial z^{(i)}}{\\partial y^{(i)}} = \\frac{\\partial}{\\partial y^{(i)}_j} f^{(i)}(y^{(i)}_j) \n",
    "$$\n",
    "\n",
    "Skąd też jeśli $f = \\mathrm{ReLU}$, to wystarczy skorzystać z tego że znamy wzór na różniczkowanie tej funkcji: \n",
    "\n",
    "$$\n",
    "\\frac{\\partial z^{(i)}_j}{\\partial y^{(i)}_j} = \\frac{\\partial}{\\partial y^{(i)}_j} f^{(i)}(y^{(i)}_j) = \\begin{cases}\n",
    "1 \\:\\: \\text{jeśli} \\: y^{(i)}_j \\geq 0 \\\\\n",
    "0 \\:\\: \\text{wpp.}\n",
    "\\end{cases}\n",
    "$$\n",
    "\n",
    "Jeśli $f = \\sigma$, to robimy analogicznie (ale korzystamy z brzydszego wzoru na pochodną sigmoida): \n",
    "\n",
    "$$\n",
    "\\frac{d}{dx} \\sigma(x) = \\frac{d}{dx} \\frac{1}{1+e^{-x}} = \\frac{e^{-x}}{(1+e^{-x})^2}\n",
    "$$\n",
    "\n",
    "(wyprowadzenie wzoru na powyższą pochodną jest szybkie -- to zwykła pochodna ilorazu, zostawiamy jako ćwiczenie :))\n",
    "\n",
    "A zatem:\n",
    "\n",
    "$$\n",
    "\\frac{\\partial z^{(i)}_j}{\\partial y^{(i)}_j} = \\frac{\\partial}{\\partial y^{(i)}_j} f^{(i)}(y^{(i)}_j) = \\frac{e^{-y^{(i)}_j}}{(1+e^{-y^{(i)}_j})^2}\n",
    "$$"
   ]
  },
  {
   "cell_type": "markdown",
   "metadata": {},
   "source": [
    "W pewnym sensie jest to jednak ładniejsze, bo nie trzeba się kejsować :D.\n",
    "\n",
    "Oczywiście, ktoś może zadać pytanie -- po co myśmy te dwie pochodne wyprowadzali, co my z tego w ogóle mamy? \n",
    "\n",
    "Otóż możemy rzucić pewnym zaklęciem o nazwie **pochodna złożenia** (swoją drogą już gdzieś nim rzucaliśmy w tych wyprowadzeniach, ale teraz zrobimy to z fajerwerkami).\n",
    "\n",
    "Jak pewne wiemy: \n",
    "\n",
    "$$\n",
    "(f(g(x)))' = f'(g(x)) \\cdot g'(x)\n",
    "$$\n",
    "\n",
    "Okazuje się, że ten sam fakt w notacji Leibniza można wyrazić następująco:\n",
    "\n",
    "$$\n",
    "\\frac{df}{dx} = \\frac{dg}{dx} \\cdot \\frac{df}{dg}\n",
    "$$"
   ]
  },
  {
   "cell_type": "markdown",
   "metadata": {},
   "source": [
    "Przypomnijmy, że do tej pory wyliczyliśmy: \n",
    "\n",
    "* $\\frac{\\partial L}{\\partial z^{(i)}_j} = -\\frac{2}{m} (y_{\\mathrm{true}_j} - z^{(i)}_j)$\n",
    "* $\\frac{\\partial z^{(i)}_j}{\\partial y^{(i)}_j} = \\frac{\\partial}{\\partial y^{(i)}_j} f^{(i)}(y^{(i)}_j) = \\frac{e^{-y^{(i)}_j}}{(1+e^{-y^{(i)}_j})^2}$"
   ]
  },
  {
   "cell_type": "markdown",
   "metadata": {},
   "source": [
    "W połączeniu z powyższym faktem dostajemy, że jesteśmy w stanie policzyć $\\frac{\\partial L}{\\partial y^{(i)}_j}$:\n",
    "\n",
    "$$\n",
    "\\frac{\\partial L}{\\partial y^{(i)}_j} = \\frac{\\partial z^{(i)}_j}{\\partial y^{(i)}_j} \\cdot \\frac{\\partial L}{\\partial z^{(i)}_j}\n",
    "$$"
   ]
  },
  {
   "cell_type": "markdown",
   "metadata": {},
   "source": [
    "...jakbyśmy z tego byli w stanie policzyć jeszcze pochodne po wagach i biasach to byłoby super.\n",
    "\n",
    "ale $y^{(i)}$ jest zależne w dosyć prosty sposób od wag i biasów, więc jest nadzieja :D.\n",
    "\n",
    "Póki co zmieńmy implementacje naszych warstw z funkcjami aktywacji tak, by zapewniały nam informację o $\\frac{\\partial L}{\\partial y^{(i)}_j}$. W tym celu funkcja backward będzie przyjmować jako argument również $\\frac{\\partial L}{\\partial z^{(i)}_j}$, by móc wyliczyć tę wartość."
   ]
  },
  {
   "cell_type": "code",
   "execution_count": 64,
   "metadata": {},
   "outputs": [],
   "source": [
    "class ReLU:\n",
    "    def __init__(self):\n",
    "        self.recent_y = None\n",
    "        \n",
    "    def forward(self, y: np.ndarray) -> np.ndarray:\n",
    "        self.recent_y = y\n",
    "        \n",
    "        return np.maximum(y, 0)\n",
    "    \n",
    "    def backward(self, dl_by_dz: np.ndarray) -> np.ndarray:\n",
    "        # Pochodna ReLU jest równa 1 jeśli y >= 0, 0 wpp. \n",
    "        # self.recent_y >= 0 da nam macierz True/False, którą możemy przekonwertować na 1/0\n",
    "        dz_by_dy = np.ones_like(self.recent_y) * (self.recent_y >= 0)\n",
    "\n",
    "        return dl_by_dz * dz_by_dy"
   ]
  },
  {
   "cell_type": "markdown",
   "metadata": {},
   "source": [
    "Zobaczmy to w praktyce."
   ]
  },
  {
   "cell_type": "code",
   "execution_count": 65,
   "metadata": {},
   "outputs": [
    {
     "name": "stdout",
     "output_type": "stream",
     "text": [
      "[[0 1]]\n"
     ]
    }
   ],
   "source": [
    "relu = ReLU()\n",
    "\n",
    "input_data = np.array([[-1, 1]])\n",
    "\n",
    "output = relu.forward(input_data)\n",
    "\n",
    "# Załóżmy, że dl_by_dz było wektorem [1, 1] by prościej było \"zobaczyć\" pochodne.\n",
    "\n",
    "print(relu.backward(np.array([[1, 1]])))"
   ]
  },
  {
   "cell_type": "markdown",
   "metadata": {},
   "source": [
    "## Zadanie nr 6 (2 punkt)\n",
    "\n",
    "Twoim zadaniem jest przeimplementować aktywację sigmoidalną tak, by była w stanie policzyć gradient po sobie.\n",
    "\n",
    "Przypomnijmy, że dla sigmoidu:\n",
    "\n",
    "$$\n",
    "\\frac{\\partial z^{(i)}_j}{\\partial y^{(i)}_j} = \\frac{e^{-y^{(i)}_j}}{(1+e^{-y^{(i)}_j})^2}\n",
    "$$"
   ]
  },
  {
   "cell_type": "code",
   "execution_count": null,
   "metadata": {},
   "outputs": [],
   "source": [
    "class Sigmoid:\n",
    "    def __init__(self):\n",
    "        self.recent_y = None\n",
    "        \n",
    "    def forward(self, y: np.ndarray) -> np.ndarray:\n",
    "        raise NotImplementedError(\"Implement the forward method\")\n",
    "        \n",
    "    \n",
    "    def backward(self, dl_by_dz: np.ndarray) -> np.ndarray:\n",
    "       raise NotImplementedError(\"Implement the backward method\")"
   ]
  },
  {
   "cell_type": "markdown",
   "metadata": {},
   "source": [
    "I przetestujmy:"
   ]
  },
  {
   "cell_type": "code",
   "execution_count": 67,
   "metadata": {},
   "outputs": [
    {
     "name": "stdout",
     "output_type": "stream",
     "text": [
      "[[0.00664806 0.19661193 0.25       0.19661193 0.00664806]]\n"
     ]
    }
   ],
   "source": [
    "sigmoid = Sigmoid()\n",
    "\n",
    "input_data = np.array([[-5, -1, 0, 1, 5]])\n",
    "\n",
    "output = sigmoid.forward(input_data)\n",
    "gradient = sigmoid.backward(np.array([[1, 1, 1, 1, 1]]))\n",
    "\n",
    "print(gradient)\n",
    "assert np.allclose(gradient, [0.006648, 0.196612, 0.25, 0.196612, 0.006648], atol=1e-3)\n"
   ]
  },
  {
   "cell_type": "markdown",
   "metadata": {},
   "source": [
    "Teraz -- w pewnym sensie -- pora na gwóźdź programu, czyli: \n",
    "\n",
    "$$\n",
    "    \\frac{\\partial L}{\\partial W^{(i)}_{a, \\; b}}\n",
    "$$\n",
    "\n",
    "Bias zostawiamy na potem (jak zwykle).\n",
    "\n",
    "Od razu przypomnijmy, że $W^{(i)}_{a, \\; b}$ oznacza a-tą wagę w b-tym perceptronie. To intuicyjnie oznacza, że jedyny sposób w który waga ta \"wpływa\" na finalny wynik to przez jej wpływ na wynik w $b$-tym perceptronie (a więc $y^{(i)}_b$). W połączeniu z faktem dotyczącym pochodnej złożenia, dostajemy:\n",
    "\n",
    "$$\n",
    "    \\frac{\\partial L}{\\partial W^{(i)}_{a, \\; b}} = \\frac{\\partial y^{(i)}_b}{\\partial W^{(i)}_{a, \\; b}} \\cdot \\frac{\\partial L}{\\partial y^{(i)}_b}\n",
    "$$"
   ]
  },
  {
   "cell_type": "markdown",
   "metadata": {},
   "source": [
    "Drugi czynnik tego iloczynu wiemy już jak policzyć, więc skupmy się na tym pierwszym. Wiemy, że $y^{(i)}_b$ można wyrazić jako iloczyn skalarny z wektorem wag $b$-tego perceptrona:\n",
    "\n",
    "$y^{(i)}_b = x^{(i)} \\odot W^{(i)}_{:, \\; b} = \\sum_{k=1}^{s^{(i-1)}} x^{(i)}_k \\cdot W^{(i)}_{k, \\; b} = \\left(\\sum_{k=1; \\;\\; k \\neq a}^{s^{(i-1)}} x^{(i)}_k \\cdot W^{(i)}_{k, \\; b} \\right) + x^{(i)}_a \\cdot W^{(i)}_{a, \\; b}$ "
   ]
  },
  {
   "cell_type": "markdown",
   "metadata": {},
   "source": [
    "A stąd \n",
    "\n",
    "$$\n",
    "\\frac{\\partial y^{(i)}_b}{\\partial W^{(i)}_{a, \\; b}} = \\frac{\\partial}{\\partial W^{(i)}_{a, \\; b}} \\left(\\sum_{k=1; \\;\\; k \\neq a}^{s^{(i-1)}} x^{(i)}_k \\cdot W^{(i)}_{k, \\; b} \\right) + x^{(i)}_a \\cdot W^{(i)}_{a, \\; b} = \\frac{\\partial}{\\partial W^{(i)}_{a, \\; b}} x^{(i)}_a \\cdot W^{(i)}_{a, \\; b} = x^{(i)}_a\n",
    "$$"
   ]
  },
  {
   "cell_type": "markdown",
   "metadata": {},
   "source": [
    "...o kurczę! Z tego mamy, że:\n",
    "\n",
    "$$\n",
    "\n",
    "\\frac{\\partial L}{\\partial W^{(i)}_{a, b}} = x^{(i)}_a \\cdot \\frac{\\partial L}{\\partial y^{(i)}_b}\n",
    "$$"
   ]
  },
  {
   "cell_type": "markdown",
   "metadata": {},
   "source": [
    "I oczywiście: zasadniczo możemy już świętować, bo mamy analityczny wzór na pochodną w tej sytuacji, ale fajnie byłoby obliczyć macierz pochodnych cząstkowych dla wszystkich wag przy pomocy jednej operacji i mieć to z głowy -- a w tej formie to byłoby trochę babrania się mimo wszystko.\n",
    "\n",
    "Rozwiążemy ten problem wprowadzając nowe oznaczenie (na chwilę): \n",
    "\n",
    "niech $dy^{(i)}$ będzie wektorem postaci\n",
    "\n",
    "$$\n",
    "dy^{(i)} = \n",
    "\\begin{bmatrix}\n",
    "        \\frac{\\partial L}{\\partial y_1^{(i)}} \\: \\frac{\\partial L}{\\partial y_2^{(i)}} \\: \\dots \\: \\frac{\\partial L}{\\partial y_{s^{(i)}}^{(i)}} \\\\\n",
    "\\end{bmatrix}\n",
    "$$"
   ]
  },
  {
   "cell_type": "markdown",
   "metadata": {},
   "source": [
    "Jest to postać w której nasze zaimplementowane warstwy zwracają i tak pochodne cząstkowe. Zastanówmy się teraz, czym jest outer product tych dwóch wektorów:\n",
    "\n",
    "$$\n",
    "x^{{(i)}} \\otimes dy^{(i)}\n",
    "$$"
   ]
  },
  {
   "cell_type": "markdown",
   "metadata": {},
   "source": [
    "Jest to macierz."
   ]
  },
  {
   "cell_type": "markdown",
   "metadata": {},
   "source": [
    "$$\n",
    "\n",
    "\\begin{bmatrix}\n",
    "        x^{(i)}_1 & x^{(i)}_2 & x^{(i)}_3 \\; \\dots \\; x^{(i)}_{s^{(i-1)}}\n",
    "\\end{bmatrix}^T\n",
    "\n",
    "\\otimes \n",
    "\n",
    "\\begin{bmatrix}\n",
    "        \\frac{\\partial L}{\\partial y_1^{(i)}} \\: \\frac{\\partial L}{\\partial y_2^{(i)}} \\: \\dots \\: \\frac{\\partial L}{\\partial y_{s^{(i)}}^{(i)}} \\\\\n",
    "\\end{bmatrix}\n",
    "\n",
    "=\n",
    "\n",
    "\\begin{bmatrix}\n",
    "        x_1^{(i)} \\cdot \\frac{\\partial L}{\\partial y_1^{(i)}} & x_1^{(i)} \\cdot \\frac{\\partial L}{\\partial y_2^{(i)}} & \\dots & x_1^{(i)} \\cdot \\frac{\\partial L}{\\partial y_{s^{(i)}}^{(i)}}\\\\\n",
    "\n",
    "        x_2^{(i)} \\cdot \\frac{\\partial L}{\\partial y_1^{(i)}} & x_2^{(i)} \\cdot \\frac{\\partial L}{\\partial y_2^{(i)}} & \\dots & x_2^{(i)} \\cdot \\frac{\\partial L}{\\partial y_{s^{(i)}}^{(i)}}\\\\\n",
    "        \\vdots & \\vdots & \\ddots & \\vdots \\\\ \n",
    "\n",
    "        x_{s^{(i-1)}}^{(i)} \\cdot \\frac{\\partial L}{\\partial y_1^{(i)}} & x_{s^{(i-1)}}^{(i)} \\cdot \\frac{\\partial L}{\\partial y_2^{(i)}} & \\dots & x_{s^{(i-1)}}^{(i)} \\cdot \\frac{\\partial L}{\\partial y_{s^{(i)}}^{(i)}}\\\\\n",
    "\\end{bmatrix}\n",
    "\n",
    "$$"
   ]
  },
  {
   "cell_type": "markdown",
   "metadata": {},
   "source": [
    "Macierz pochodnych cząstkowych."
   ]
  },
  {
   "cell_type": "markdown",
   "metadata": {},
   "source": [
    "$$\n",
    "\n",
    "\\begin{bmatrix}\n",
    "        x_1^{(i)} \\cdot \\frac{\\partial L}{\\partial y_1^{(i)}} & x_1^{(i)} \\cdot \\frac{\\partial L}{\\partial y_2^{(i)}} & \\dots & x_1^{(i)} \\cdot \\frac{\\partial L}{\\partial y_{s^{(i)}}^{(i)}}\\\\\n",
    "\n",
    "        x_2^{(i)} \\cdot \\frac{\\partial L}{\\partial y_1^{(i)}} & x_2^{(i)} \\cdot \\frac{\\partial L}{\\partial y_2^{(i)}} & \\dots & x_2^{(i)} \\cdot \\frac{\\partial L}{\\partial y_{s^{(i)}}^{(i)}}\\\\\n",
    "        \\vdots & \\vdots & \\ddots & \\vdots \\\\ \n",
    "\n",
    "        x_{s^{(i-1)}}^{(i)} \\cdot \\frac{\\partial L}{\\partial y_1^{(i)}} & x_{s^{(i-1)}}^{(i)} \\cdot \\frac{\\partial L}{\\partial y_2^{(i)}} & \\dots & x_{s^{(i-1)}}^{(i)} \\cdot \\frac{\\partial L}{\\partial y_{s^{(i)}}^{(i)}}\\\\\n",
    "\\end{bmatrix}\n",
    "\n",
    "=\n",
    "\n",
    "\\begin{bmatrix}\n",
    "        \\frac{\\partial L}{\\partial W^{(i)}_{1, \\; 1}} & \\frac{\\partial L}{\\partial W^{(i)}_{1, \\; 2}} & \\dots & \\frac{\\partial L}{\\partial W^{(i)}_{1, \\; s^{(i)}}}\\\\\n",
    "\n",
    "        \\frac{\\partial L}{\\partial W^{(i)}_{2, \\; 1}} & \\frac{\\partial L}{\\partial W^{(i)}_{2, \\; 2}} & \\dots & \\frac{\\partial L}{\\partial W^{(i)}_{2, \\; s^{(i)}}}\\\\\n",
    "       \n",
    "        \\vdots & \\vdots & \\ddots & \\vdots \\\\ \n",
    "\n",
    "        \\frac{\\partial L}{\\partial W^{(i)}_{s^{(i-1)}, \\; 1}} & \\frac{\\partial L}{\\partial W^{(i)}_{s^{(i-1)}, \\; 2}} & \\dots & \\frac{\\partial L}{\\partial W^{(i)}_{s^{(i-1)}, \\; s^{(i)}}}\\\\\n",
    "\\end{bmatrix}\n",
    "\n",
    "\n",
    "$$"
   ]
  },
  {
   "cell_type": "markdown",
   "metadata": {},
   "source": [
    "Dobra, zaimplementujmy to (ponownie: na początku bez biasów) żeby nie osiwieć. "
   ]
  },
  {
   "cell_type": "code",
   "execution_count": null,
   "metadata": {},
   "outputs": [],
   "source": [
    "class MLPLayer:\n",
    "    def __init__(self, in_dim: int, out_dim: int):\n",
    "        self.weights = np.random.randn(in_dim, out_dim)\n",
    "        \n",
    "        self.in_dim = in_dim\n",
    "        self.out_dim = out_dim\n",
    "\n",
    "        self.recent_x = None\n",
    "        \n",
    "    def forward(self, x: np.ndarray) -> np.ndarray:\n",
    "        # x shape: (1, in_dim)\n",
    "        # weights shape: (in_dim, out_dim)\n",
    "        self.recent_x = x\n",
    "\n",
    "        return np.matmul(x, self.weights)\n",
    "    \n",
    "    def backward(self, dl_by_dy: np.ndarray) -> np.ndarray:\n",
    "        # Żeby policzyć outer product wektorów, możemy użyć zwyczajnego mnożenia macierzy (nasze wektory w numpy są macierzami 1xN)\n",
    "\n",
    "        # dl_by_dy shape: (1, out_dim)\n",
    "        # recent_x shape: (1, in_dim) -> transpozycja -> (in_dim, 1) \n",
    "        # po pomnożeniu dostaniemy macierz (in_dim, out_dim) o takich samych wymiarach jak wagi -- gradienty wag\n",
    "\n",
    "        dl_by_dW = np.matmul(self.recent_x.T, dl_by_dy)\n",
    "\n",
    "        return dl_by_dW "
   ]
  },
  {
   "cell_type": "markdown",
   "metadata": {},
   "source": [
    "Powyższa implementacja ma pewne problemy, które będziemy naprawiać później.\n",
    "\n",
    "Jeszcze sporo nam brakuje by móc uczyć większe sieci typu MLP, ale z tym co już mamy jesteśmy w stanie poradzić sobie z uczeniem jednej warstwy. Bez biasu. Ale nie od razu Kraków zbudowano!\n",
    "\n",
    "I -- w zasadzie -- jest to dobre miejsce by sobie taki prosty trening nową metodą wykonać -- zobaczyć jak to działa w praktyce. Jako że mamy tylko jedną warstwę, to w zasadzie architekturalnie mamy tylko jeden perceptron z funkcją aktywacji; nauczmy się więc czegoś prostego, liniowego."
   ]
  },
  {
   "cell_type": "code",
   "execution_count": 69,
   "metadata": {},
   "outputs": [],
   "source": [
    "input_data = np.array([\n",
    "    [0.5, 1], # 1 \n",
    "    [1, 1], # 1\n",
    "    [0.5, 0], # 0\n",
    "    [1, 0] # 0\n",
    "])\n",
    "\n",
    "labels = np.array([[1], [1], [0], [0]])"
   ]
  },
  {
   "cell_type": "code",
   "execution_count": 70,
   "metadata": {},
   "outputs": [],
   "source": [
    "layer = MLPLayer(in_dim=2, out_dim=1)\n",
    "activation = Sigmoid()\n",
    "loss = MSE()"
   ]
  },
  {
   "cell_type": "code",
   "execution_count": 71,
   "metadata": {},
   "outputs": [],
   "source": [
    "learning_rate = 0.1\n",
    "epochs = 1000"
   ]
  },
  {
   "cell_type": "code",
   "execution_count": 72,
   "metadata": {},
   "outputs": [],
   "source": [
    "def forward_pass(x: np.ndarray) -> np.ndarray:\n",
    "    y = layer.forward(x)\n",
    "    z = activation.forward(y)\n",
    "\n",
    "    return z "
   ]
  },
  {
   "cell_type": "code",
   "execution_count": 73,
   "metadata": {},
   "outputs": [],
   "source": [
    "def backward_pass(loss):\n",
    "    dl_by_dz = loss.backward()\n",
    "    dl_by_dy = activation.backward(dl_by_dz)\n",
    "\n",
    "    layer_gradient = layer.backward(dl_by_dy)\n",
    "\n",
    "    return layer_gradient"
   ]
  },
  {
   "cell_type": "code",
   "execution_count": 74,
   "metadata": {},
   "outputs": [
    {
     "name": "stdout",
     "output_type": "stream",
     "text": [
      "Epoch 0, loss: 0.16491959829591246\n",
      "Epoch 100, loss: 0.05614991150961575\n",
      "Epoch 200, loss: 0.03488356582965847\n",
      "Epoch 300, loss: 0.025521587283274434\n",
      "Epoch 400, loss: 0.020213424470577685\n",
      "Epoch 500, loss: 0.01676989512531818\n",
      "Epoch 600, loss: 0.014343446382127445\n",
      "Epoch 700, loss: 0.01253572879837252\n",
      "Epoch 800, loss: 0.0111339703295874\n",
      "Epoch 900, loss: 0.010013735165082522\n"
     ]
    }
   ],
   "source": [
    "for epoch in range(epochs):\n",
    "    average_loss = 0\n",
    "\n",
    "    for x, y_true in zip(input_data, labels):\n",
    "        x = np.expand_dims(x, 0)\n",
    "        y_true = np.expand_dims(y_true, 0)\n",
    "\n",
    "        z = forward_pass(x)\n",
    "        current_loss = loss.forward(y_true, z)\n",
    "\n",
    "        layer_gradient = backward_pass(loss)\n",
    "\n",
    "        layer.weights -= learning_rate * layer_gradient\n",
    "        \n",
    "        average_loss += current_loss\n",
    "\n",
    "    if epoch % 100 == 0:\n",
    "        print(f\"Epoch {epoch}, loss: {average_loss / len(input_data)}\")"
   ]
  },
  {
   "cell_type": "code",
   "execution_count": 75,
   "metadata": {},
   "outputs": [
    {
     "name": "stdout",
     "output_type": "stream",
     "text": [
      "Prediction for [0.5 1. ]: [[0.98124786]]\n",
      "Prediction for [1. 1.]: [[0.91090844]]\n",
      "Prediction for [0.5 0. ]: [[0.16345545]]\n",
      "Prediction for [1. 0.]: [[0.03677465]]\n"
     ]
    }
   ],
   "source": [
    "for x in input_data:\n",
    "    print(f\"Prediction for {x}: {forward_pass(np.expand_dims(x, 0))}\")"
   ]
  },
  {
   "cell_type": "markdown",
   "metadata": {},
   "source": [
    "O, nawet się czegoś nauczyło! "
   ]
  },
  {
   "cell_type": "markdown",
   "metadata": {},
   "source": [
    "Żeby móc trenować dłuższe sieci, potrzebujemy powiedzieć ile to\n",
    "\n",
    "$$\n",
    "\\frac{\\partial L}{\\partial x^{(i)}_j}  = \\frac{\\partial L}{\\partial z^{(i-1)}_j}\n",
    "$$\n",
    "\n",
    "(ostatnie przejście wynika z faktu że $x^{(i)} = z^{(i-1)}$)\n",
    "\n",
    "W momencie w którym będziemy mieć $\\frac{\\partial L}{\\partial z^{(i-1)}_j}$ będziemy w stanie policzyć $\\frac{\\partial L}{\\partial y^{(i-1)}_j}$ (bo umiemy już różniczkować $\\frac{\\partial z^{(i)}_j}{\\partial y^{(i)}_j}$), skąd będziemy w stanie wyliczyć gradienty dla wag w kolejnej warstwie i cofnąć się jeszcze do wcześniejszej warstwy, efektywnie **propagując gradient wstecz**. \n",
    "\n",
    "Swoją drogą: prezentowany algorytm różniczkowania sieci neuronowych nazywa się **propagacja wsteczna**. Ciekawe dlaczego :D. "
   ]
  },
  {
   "cell_type": "markdown",
   "metadata": {},
   "source": [
    "Dobra, teraz pora na _przykrą_ obserwację. Mianowicie:\n",
    "\n",
    "$$\n",
    "\\frac{\\partial L}{\\partial y^{(i)}_j} \\neq \\frac{\\partial y^{(i)}_j}{\\partial x^{(i)}_j} \\cdot \\frac{\\partial L}{\\partial y^{(i)}_j}\n",
    "$$\n",
    "\n",
    "_Ale jak to?_ :( \n",
    "\n",
    "(Uwaga, gwoli ścisłości: znak różności został tutaj użyty by przekazać ideę, że te wartości _niekoniecznie_ są sobie równe. Istnieje najpewniej zestaw parametrów perceptronów jak i danych uczących dla których taka sytuacja byłaby _możliwa_, natomiast w ogólnym przypadku najpewniej te wartości będą od siebie różne.)\n",
    "\n",
    "Przy wcześniejszych pochodnych mogliśmy wykonywać analogiczne rozumowanie, bo wartości po których różniczkowaliśmy nie \"wpływały\" na wartości na innych miejscach w wektorach.\n",
    "\n",
    "Przykładowo -- aplikując funkcję ReLU na wektor, aplikujemy ją point-wise (oczywiście). Tym samym trywialnie \n",
    "\n",
    "$$\n",
    "\\frac{\\partial z^{(i)}_a}{\\partial y^{(i)}_b} = 0\n",
    "$$\n",
    "\n",
    "gdy $ a \\neq b $. Oczywiście, gdy $a = b$ to mamy ten \"ciekawy\" przypadek wymagający zróżniczkowania funkcji aktywacji.\n",
    "\n",
    "Tutaj rzeczy się komplikują, ale _każdy_ perceptron w warstwie dostaje taki sam wektor $x^{(i)}$ na wejście -- tym samym wartość $x^{(i)}_j$ \"oddziałuje\" na wszystkie wyjścia perceptronów, przez co: \n",
    "\n",
    "$$\n",
    "\\frac{\\partial y^{(i)}_a}{\\partial x^{(i)}_b}\n",
    "$$ \n",
    "\n",
    "niekoniecznie jest zerowe dla $ a \\neq b $."
   ]
  },
  {
   "cell_type": "markdown",
   "metadata": {},
   "source": [
    "Dobra, to teraz pojawia się pytanie jak to policzyć. Są tutaj 2 podejścia: \n",
    "\n",
    "1. Podejście formalne: istnieje twierdzenie które pozwoli sobie poradzić z tą sytuacją, w szczególności...\n",
    "2. ...uzasadnić podejście drugie, które polega na stwierdzeniu, że szukana pochodna cząstkowa jest sumą innych pochodnych cząstkowych. \n",
    "\n",
    "Zastosujemy podejście drugie, bo rozwiązanie przez nie postulowane jest intuicyjne oraz (co ważne) prawdziwe, natomiast nie ma sensu rozwodzić się nad poprawnością tego przejścia."
   ]
  },
  {
   "cell_type": "markdown",
   "metadata": {},
   "source": [
    "Podejście drugie polega na tym, że mówimy że: \n",
    "\n",
    "$$\n",
    "\\frac{\\partial L}{\\partial x^{(i)}_j} = \\sum_{k=1}^{s^{(n)}} \\frac{\\partial y^{(i)}_k}{\\partial x^{(i)}_j} \\cdot \\frac{\\partial L}{\\partial y^{(i)}_k}\n",
    "$$"
   ]
  },
  {
   "cell_type": "markdown",
   "metadata": {},
   "source": [
    "Intuicyjnie: skoro $x^{(i)}_j$ \"wpływa\" na wartości zwracane przez wszystkie perceptrony, to po prostu zsumujmy pochodne cząstkowe \"idące\" przez dany perceptron. Okazuje się, że oprócz bycia intuicyjnym ma to również uzasadnienie formalne; dowód pominiemy."
   ]
  },
  {
   "cell_type": "markdown",
   "metadata": {},
   "source": [
    "Pozostaje więc policzenie \n",
    "\n",
    "$$\n",
    "\\frac{\\partial y^{(i)}_k}{\\partial x^{(i)}_j}\n",
    "$$\n",
    "\n",
    "Więc rozpisujemy: \n",
    "\n",
    "$$\n",
    "y^{(i)}_k = x^{(i)} \\odot W^{(i)}_{:, \\; k} = \\sum_{a=1}^{s^{(i)}} x^{(i)}_a \\cdot W^{(i)}_{a, \\; k} =  \\left( \\sum_{a=1; \\; a \\neq j}^{s^{(i)}} x^{(i)}_a \\cdot W^{(i)}_{a, \\; k} \\right) + x^{(i)}_j \\cdot W^{(i)}_{j, \\; k}\n",
    "$$\n",
    "\n",
    "$$\n",
    "\\frac{\\partial}{\\partial x^{(i)}_j} \\left(\\left( \\sum_{a=1; \\; a \\neq j}^{s^{(i)}} x^{(i)}_a \\cdot W^{(i)}_{a, \\; k} \\right) + x^{(i)}_j \\cdot W^{(i)}_{j, \\; k}\\right) = W^{(i)}_{j, \\; k}\n",
    "$$"
   ]
  },
  {
   "cell_type": "markdown",
   "metadata": {},
   "source": [
    "Reasumując: \n",
    "\n",
    "$$\n",
    "\\frac{\\partial y^{(i)}_k}{\\partial x^{(i)}_j} = W^{(i)}_{j, \\; k}\n",
    "$$\n",
    "\n",
    "więc:\n",
    "\n",
    "$$\n",
    "\\frac{\\partial L}{\\partial x^{(i)}_j} = \\sum_{k=1}^{s^{(n)}} \\frac{\\partial y^{(i)}_k}{\\partial x^{(i)}_j} \\cdot \\frac{\\partial L}{\\partial y^{(i)}_k} = \\sum_{k=1}^{s^{(n)}} W^{(i)}_{j, \\; k} \\cdot \\frac{\\partial L}{\\partial y^{(i)}_k} = W^{(i)}_{j, \\; :} \\odot dy^{(i)}\n",
    "$$\n",
    "\n",
    "Gdzie -- przypomnijmy:\n",
    "\n",
    "$$\n",
    "dy^{(i)} = \n",
    "\\begin{bmatrix}\n",
    "        \\frac{\\partial L}{\\partial y_1^{(i)}} \\: \\frac{\\partial L}{\\partial y_2^{(i)}} \\: \\dots \\: \\frac{\\partial L}{\\partial y_{s^{(i)}}^{(i)}} \\\\\n",
    "\\end{bmatrix}\n",
    "$$\n",
    "\n",
    "Ponadto, żeby \"uładnić\" zapis pozwolimy sobie wprowadzić bardzo analogiczny zapis:\n",
    "\n",
    "$$\n",
    "dx^{(i)} = \n",
    "\\begin{bmatrix}\n",
    "        \\frac{\\partial L}{\\partial x_1^{(i)}} \\: \\frac{\\partial L}{\\partial x_2^{(i)}} \\: \\dots \\: \\frac{\\partial L}{\\partial x_{s^{(i)}}^{(i)}} \\\\\n",
    "\\end{bmatrix}\n",
    "$$\n",
    "\n",
    "Co pozwala nam na obliczanie gradientu za pomocą jednego mnożenia macierzy:\n",
    "\n",
    "$$\n",
    "dx^{(i)} = dy^{(i)} \\cdot W^{(i)^T}\n",
    "$$"
   ]
  },
  {
   "cell_type": "markdown",
   "metadata": {},
   "source": [
    "Autor notebooka pozwolił sobie oszczędzić wszystkim wizualizację mnożenia macierzy która zademonstrowałaby ten wynik tym razem. Natomiast jeśli ktoś nie jest pewien skąd się to wzięło -- jest jak najbardziej zachęcany do rozpisania sobie tego na kartce by upewnić się, że jest to zrobione poprawnie.\n",
    "\n",
    "Teraz zaś -- przejdźmy do kodu. Musimy przeimplementować klasę `MLPLayer` tak, by zwracała nam 2 gradienty (jeden dla wag, i jeden pozwalający się nam \"cofać\").\n",
    "\n",
    "I tak -- potem pozostanie nam do policzenia jeszcze pochodna cząstkowa dla biasów. Ale to już -- po tym wszystkim cośmy widzieli -- będzie proste."
   ]
  },
  {
   "cell_type": "code",
   "execution_count": 76,
   "metadata": {},
   "outputs": [],
   "source": [
    "class MLPLayer:\n",
    "    def __init__(self, in_dim: int, out_dim: int):\n",
    "        self.weights = np.random.randn(in_dim, out_dim)\n",
    "        \n",
    "        self.in_dim = in_dim\n",
    "        self.out_dim = out_dim\n",
    "\n",
    "        self.recent_x = None\n",
    "        \n",
    "    def forward(self, x: np.ndarray) -> np.ndarray:\n",
    "        # x shape: (1, in_dim)\n",
    "        # weights shape: (in_dim, out_dim)\n",
    "        self.recent_x = x\n",
    "\n",
    "        return np.matmul(x, self.weights)\n",
    "    \n",
    "    def backward(self, dl_by_dy: np.ndarray) -> np.ndarray:\n",
    "        # Żeby policzyć outer product wektorów, możemy użyć zwyczajnego mnożenia macierzy (nasze wektory w numpy są macierzami 1xN)\n",
    "\n",
    "        # dl_by_dy shape: (1, out_dim)\n",
    "        # recent_x shape: (1, in_dim) -> transpozycja -> (in_dim, 1) \n",
    "        # po pomnożeniu dostaniemy macierz (in_dim, out_dim) o takich samych wymiarach jak wagi -- gradienty wag\n",
    "\n",
    "        dl_by_dW = np.matmul(self.recent_x.T, dl_by_dy)\n",
    "\n",
    "        # Nasza modyfikacja: potrzebujemy jeszcze dy_by_dx \n",
    "        # weights shape: (in_dim, out_dim) -> transpozycja -> (out_dim, in_dim)\n",
    "        # dl_by_dy shape: (1, out_dim)\n",
    "        # po pomnożeniu -> wektor (1, in_dim) -- gradient wejścia\n",
    "\n",
    "        dl_by_dx = np.matmul(dl_by_dy, self.weights.T)\n",
    "\n",
    "\n",
    "        return dl_by_dW, dl_by_dx"
   ]
  },
  {
   "cell_type": "markdown",
   "metadata": {},
   "source": [
    "Ostatnia rzecz z liczeniem pochodnych. Naprawdę. \n",
    "\n",
    "\n",
    "Ile to jest:\n",
    "\n",
    "$$\n",
    "    \\frac{\\partial L}{\\partial b^{(i)}_j}\n",
    "$$\n",
    "\n",
    "Wiemy że:\n",
    "\n",
    "$$\n",
    "    \\frac{\\partial L}{\\partial b^{(i)}_j} = \\frac{\\partial y^{(i)}_j}{\\partial b^{(i)}_j} \\cdot \\frac{\\partial L}{\\partial y^{(i)}_j}\n",
    "$$\n",
    "\n",
    "Drugi czynnik znamy, więc skupmy się na pierwszym. Wyraźmy $y^{(i)}_j$:\n",
    "\n",
    "$$\n",
    "    y^{(i)}_j = W^{(i)}_{:, \\; j} \\odot x^{(i)} + b^{(i)}_j \n",
    "$$\n",
    "\n",
    "Skąd dostajemy:\n",
    "\n",
    "$$\n",
    "    \\frac{\\partial y^{(i)}_j}{\\partial b^{(i)}_j} = \\frac{\\partial}{\\partial b^{(i)}_j} \\left( W^{(i)}_{:, \\; j} \\odot x^{(i)} + b^{(i)}_j \\right) = \\frac{\\partial b^{(i)}_j}{\\partial b^{(i)}_j}  = 1\n",
    "$$\n",
    "\n",
    "Czyli:\n",
    "\n",
    "$$\n",
    "    \\frac{\\partial L}{\\partial b^{(i)}_j} = \\frac{\\partial y^{(i)}_j}{\\partial b^{(i)}_j} \\cdot \\frac{\\partial L}{\\partial y^{(i)}_j} = 1 \\cdot \\frac{\\partial L}{\\partial y^{(i)}_j} = \\frac{\\partial L}{\\partial y^{(i)}_j}\n",
    "$$\n",
    "\n",
    "Uffff.\n",
    "\n",
    "To teraz możemy przepisać klasę `MLPLayerWithBias`, chociaż dużo się w niej nie zmieni :)"
   ]
  },
  {
   "cell_type": "markdown",
   "metadata": {},
   "source": [
    "## Zadanie nr 7 (1 punkt)\n",
    "\n",
    "Zaimplementuj warstwę MLP z biasem."
   ]
  },
  {
   "cell_type": "code",
   "execution_count": null,
   "metadata": {},
   "outputs": [],
   "source": [
    "class MLPLayerWithBias:\n",
    "    def __init__(self, in_dim: int, out_dim: int):\n",
    "        self.weights = np.random.randn(in_dim, out_dim)\n",
    "        self.bias = np.random.randn(1, out_dim)\n",
    "        \n",
    "        self.in_dim = in_dim\n",
    "        self.out_dim = out_dim\n",
    "\n",
    "        self.recent_x = None\n",
    "        \n",
    "    def forward(self, x: np.ndarray) -> np.ndarray:\n",
    "        # x shape: (1, in_dim)\n",
    "        # weights shape: (in_dim, out_dim)\n",
    "        self.recent_x = x\n",
    "\n",
    "        raise NotImplementedError(\"Implement the forward method\")\n",
    "    \n",
    "    def backward(self, dl_by_dy: np.ndarray) -> np.ndarray:\n",
    "        # Żeby policzyć outer product wektorów, możemy użyć zwyczajnego mnożenia macierzy (nasze wektory w numpy są macierzami 1xN)\n",
    "\n",
    "        # dl_by_dy shape: (1, out_dim)\n",
    "        # recent_x shape: (1, in_dim) -> transpozycja -> (in_dim, 1) \n",
    "        # po pomnożeniu dostaniemy macierz (in_dim, out_dim) o takich samych wymiarach jak wagi -- gradienty wag\n",
    "\n",
    "        dl_by_dW = np.matmul(self.recent_x.T, dl_by_dy)\n",
    "\n",
    "        raise NotImplementedError(\"Implement the backward method\")\n",
    "\n",
    "        return dl_by_dW, dl_by_dx, dl_by_db"
   ]
  },
  {
   "cell_type": "markdown",
   "metadata": {},
   "source": [
    "To teraz pokonajmy problem XOR -- ponownie :)."
   ]
  },
  {
   "cell_type": "code",
   "execution_count": 78,
   "metadata": {},
   "outputs": [],
   "source": [
    "input_data = np.array([\n",
    "    [1, 1], # 0\n",
    "    [1, 0], # 1\n",
    "    [0, 1], # 1\n",
    "    [0, 0] # 0\n",
    "])\n",
    "\n",
    "labels = np.array([[0], [1], [1], [0]])"
   ]
  },
  {
   "cell_type": "code",
   "execution_count": 79,
   "metadata": {},
   "outputs": [],
   "source": [
    "layer_1 = MLPLayerWithBias(in_dim=2, out_dim=3)\n",
    "activation_1 = ReLU()\n",
    "\n",
    "layer_2 = MLPLayerWithBias(in_dim=3, out_dim=1)\n",
    "activation_2 = Sigmoid()\n",
    "\n",
    "loss = MSE()"
   ]
  },
  {
   "cell_type": "code",
   "execution_count": 80,
   "metadata": {},
   "outputs": [],
   "source": [
    "learning_rate = 0.1\n",
    "epochs = 5000"
   ]
  },
  {
   "cell_type": "code",
   "execution_count": 81,
   "metadata": {},
   "outputs": [],
   "source": [
    "def forward_pass(x: np.ndarray) -> np.ndarray:\n",
    "    y_1 = layer_1.forward(x)\n",
    "    z_1 = activation_1.forward(y_1)\n",
    "\n",
    "    y_2 = layer_2.forward(z_1)    \n",
    "    z_2 = activation_2.forward(y_2)\n",
    "\n",
    "    return z_2"
   ]
  },
  {
   "cell_type": "code",
   "execution_count": 82,
   "metadata": {},
   "outputs": [],
   "source": [
    "def backward_pass(loss):\n",
    "    dl_by_dz = loss.backward()\n",
    "    dl_by_dy_2 = activation_2.backward(dl_by_dz)\n",
    "\n",
    "    dl_by_w_2, dl_by_dx_2, dl_by_b_2 = layer_2.backward(dl_by_dy_2)\n",
    "\n",
    "    dl_by_dy_1 = activation_1.backward(dl_by_dx_2)\n",
    "    dl_by_w_1, dl_by_dx_1, dl_by_b_1 = layer_1.backward(dl_by_dy_1)\n",
    "\n",
    "    return dl_by_w_1, dl_by_w_2, dl_by_b_1, dl_by_b_2"
   ]
  },
  {
   "cell_type": "code",
   "execution_count": 83,
   "metadata": {},
   "outputs": [
    {
     "name": "stdout",
     "output_type": "stream",
     "text": [
      "Epoch 0, loss: 0.2836953642363127\n",
      "Epoch 100, loss: 0.03237103399870502\n",
      "Epoch 200, loss: 0.009610555815110826\n",
      "Epoch 300, loss: 0.004847568464385261\n",
      "Epoch 400, loss: 0.0030887935045571637\n",
      "Epoch 500, loss: 0.0022230417919292173\n",
      "Epoch 600, loss: 0.0016995273618820909\n",
      "Epoch 700, loss: 0.0013686273134339096\n",
      "Epoch 800, loss: 0.0011370900761442507\n",
      "Epoch 900, loss: 0.0009697607907303213\n",
      "Epoch 1000, loss: 0.0008412449053401161\n",
      "Epoch 1100, loss: 0.0007400784855340961\n",
      "Epoch 1200, loss: 0.0006595269358278034\n",
      "Epoch 1300, loss: 0.0005940736231555158\n",
      "Epoch 1400, loss: 0.0005396331938835324\n",
      "Epoch 1500, loss: 0.0004936852860521673\n",
      "Epoch 1600, loss: 0.0004545126442467764\n",
      "Epoch 1700, loss: 0.000420848819712175\n",
      "Epoch 1800, loss: 0.0003914112593343711\n",
      "Epoch 1900, loss: 0.000365559177575753\n",
      "Epoch 2000, loss: 0.00034247662179241593\n",
      "Epoch 2100, loss: 0.0003221127863732629\n",
      "Epoch 2200, loss: 0.00030388637867702535\n",
      "Epoch 2300, loss: 0.000287483116359372\n",
      "Epoch 2400, loss: 0.0002727761302030741\n",
      "Epoch 2500, loss: 0.00025940889582283386\n",
      "Epoch 2600, loss: 0.0002471621746526641\n",
      "Epoch 2700, loss: 0.00023575307598232975\n",
      "Epoch 2800, loss: 0.0002254498655001607\n",
      "Epoch 2900, loss: 0.00021602016569858455\n",
      "Epoch 3000, loss: 0.00020729168201878508\n",
      "Epoch 3100, loss: 0.00019919343485680244\n",
      "Epoch 3200, loss: 0.00019154066769857438\n",
      "Epoch 3300, loss: 0.00018450336369610687\n",
      "Epoch 3400, loss: 0.00017798416157023767\n",
      "Epoch 3500, loss: 0.00017181120182991626\n",
      "Epoch 3600, loss: 0.00016598823984631764\n",
      "Epoch 3700, loss: 0.00016062751778871532\n",
      "Epoch 3800, loss: 0.00015554443213417415\n",
      "Epoch 3900, loss: 0.00015074093164048634\n",
      "Epoch 4000, loss: 0.00014619863043924416\n",
      "Epoch 4100, loss: 0.00014197018156641733\n",
      "Epoch 4200, loss: 0.0001378654830916649\n",
      "Epoch 4300, loss: 0.00013408784312090663\n",
      "Epoch 4400, loss: 0.00013039742891184601\n",
      "Epoch 4500, loss: 0.00012695553622739457\n",
      "Epoch 4600, loss: 0.0001236831462150838\n",
      "Epoch 4700, loss: 0.00012053226198980457\n",
      "Epoch 4800, loss: 0.00011754799389456085\n",
      "Epoch 4900, loss: 0.00011470888165357728\n"
     ]
    }
   ],
   "source": [
    "for epoch in range(epochs):\n",
    "    average_loss = 0\n",
    "    for x, y_true in zip(input_data, labels):\n",
    "        x = np.expand_dims(x, 0)\n",
    "        y_true = np.expand_dims(y_true, 0)\n",
    "        \n",
    "        z = forward_pass(x)\n",
    "        current_loss = loss.forward(y_true, z)\n",
    "\n",
    "        dl_by_w_1, dl_by_w_2, dl_by_b_1, dl_by_b_2 = backward_pass(loss)\n",
    "\n",
    "        layer_1.weights -= learning_rate * dl_by_w_1\n",
    "        layer_2.weights -= learning_rate * dl_by_w_2\n",
    "\n",
    "        layer_1.bias -= learning_rate * dl_by_b_1\n",
    "        layer_2.bias -= learning_rate * dl_by_b_2\n",
    "\n",
    "        average_loss += current_loss\n",
    "\n",
    "    if epoch % 100 == 0:\n",
    "        print(f\"Epoch {epoch}, loss: {average_loss / len(input_data)}\")"
   ]
  },
  {
   "cell_type": "code",
   "execution_count": 84,
   "metadata": {},
   "outputs": [
    {
     "name": "stdout",
     "output_type": "stream",
     "text": [
      "Prediction for [1 1]: [[0.00992248]]\n",
      "Prediction for [1 0]: [[0.98936688]]\n",
      "Prediction for [0 1]: [[0.99083363]]\n",
      "Prediction for [0 0]: [[0.01233078]]\n"
     ]
    }
   ],
   "source": [
    "for x in input_data:\n",
    "    print(f\"Prediction for {x}: {forward_pass(np.expand_dims(x, 0))}\")"
   ]
  },
  {
   "cell_type": "markdown",
   "metadata": {},
   "source": [
    "Pokonaliśmy problem XOR. Czy to już koniec? \n",
    "\n",
    "Otóż nie! \n",
    "\n",
    "Pora na zauważenie fajnej rzeczy. Do tej pory \"przepuszczaliśmy\" przez sieć pojedyncze przykłady treningowe, traktując je jako macierze $1 \\times \\mathrm{dim}$ (czyli efektywnie wektory).\n",
    "\n",
    "...a co by było, gdybyśmy \"wrzucili\" do sieci parę przykładów jednocześnie? "
   ]
  },
  {
   "cell_type": "code",
   "execution_count": 85,
   "metadata": {},
   "outputs": [
    {
     "data": {
      "text/plain": [
       "(4, 2)"
      ]
     },
     "execution_count": 85,
     "metadata": {},
     "output_type": "execute_result"
    }
   ],
   "source": [
    "input_data.shape"
   ]
  },
  {
   "cell_type": "code",
   "execution_count": 86,
   "metadata": {},
   "outputs": [],
   "source": [
    "output = forward_pass(input_data)"
   ]
  },
  {
   "cell_type": "code",
   "execution_count": 87,
   "metadata": {},
   "outputs": [
    {
     "data": {
      "text/plain": [
       "(4, 1)"
      ]
     },
     "execution_count": 87,
     "metadata": {},
     "output_type": "execute_result"
    }
   ],
   "source": [
    "output.shape # !!!"
   ]
  },
  {
   "cell_type": "code",
   "execution_count": 88,
   "metadata": {},
   "outputs": [
    {
     "name": "stdout",
     "output_type": "stream",
     "text": [
      "[[0.00992248]\n",
      " [0.98936688]\n",
      " [0.99083363]\n",
      " [0.01233078]]\n"
     ]
    }
   ],
   "source": [
    "print(output)"
   ]
  },
  {
   "cell_type": "markdown",
   "metadata": {},
   "source": [
    "Ze względu na to jak działa mnożenie macierzy, możemy po prostu \"przepuszczać\" przez sieć wiele zestawów danych jednocześnie (mając je skonkatenowane wzdłuż zerowej osi). Liczbę \"równoległych\" przykładów w tensorze z danymi nazwiemy **rozmiarem batcha**. W tym przypadku wyniósł on **4**.\n",
    "\n",
    "Czy jesteśmy w stanie tego użyć przy treningu? Okazuje się, że tak -- wzory na propagację wsteczną seamlessly się generalizują do przypadku gdzie dane są zbatchowane. Loss wówczas jest średnią lossów z poszczególnych przypadków, a wszystkie działania macierzowe w propagacji wstecznej również się generalizują. \n",
    "\n",
    "Jedyna rzecz jest taka, że przy propagacji wstecznej dla każdego z biasów uzyskamy w ten sposób gradient dla każdego z przykładów _oddzielnie_ (sprawdzenie dlaczego oraz dlaczego dla wag analogiczny efekt nie ma miejsca -- zostawiamy jako ćwiczenie dla czytelnika -- wynika to z tego jak zaimplementowaliśmy wzory :D). \n",
    "\n",
    "Radzimy sobie z tym problemem wykonując update wektora biasów bazując na _zsumowanych_ gradientach.\n",
    "\n",
    "Nie będziemy rozpisywać tego, co dokładnie się tam dzieje -- ma to bowiem limitowany sens, ale wystarczy tym razem spojrzeć, że faktycznie działa :D.\n",
    "\n",
    "Pokonajmy więc (znowu) problem XOR, ale tym razem bez iterowania się po każdym przykładzie."
   ]
  },
  {
   "cell_type": "code",
   "execution_count": 89,
   "metadata": {},
   "outputs": [],
   "source": [
    "layer_1 = MLPLayerWithBias(in_dim=2, out_dim=3)\n",
    "activation_1 = ReLU()\n",
    "\n",
    "layer_2 = MLPLayerWithBias(in_dim=3, out_dim=1)\n",
    "activation_2 = Sigmoid()"
   ]
  },
  {
   "cell_type": "code",
   "execution_count": 90,
   "metadata": {},
   "outputs": [
    {
     "name": "stdout",
     "output_type": "stream",
     "text": [
      "dl_by_w1 shape (2, 3)\n",
      "dl_by_w2 shape (3, 1)\n",
      "dl_by_b1 shape (4, 3)\n",
      "dl_by_b2 shape (4, 1)\n",
      "Summed up dl_by_b1 shape (1, 3)\n",
      "Summed up dl_by_b2 shape (1, 1)\n",
      "Epoch 0, loss: 0.3897355364392913\n",
      "Epoch 1000, loss: 0.0028164108966172376\n",
      "Epoch 2000, loss: 0.0010516631937379961\n",
      "Epoch 3000, loss: 0.0006232231661839589\n",
      "Epoch 4000, loss: 0.00043697228975055833\n"
     ]
    }
   ],
   "source": [
    "for epoch in range(epochs):\n",
    "        \n",
    "    z = forward_pass(input_data)\n",
    "    current_loss = loss.forward(labels, z)\n",
    "\n",
    "    dl_by_w_1, dl_by_w_2, dl_by_b_1, dl_by_b_2 = backward_pass(loss)\n",
    "\n",
    "    summed_dl_by_b_1 = np.sum(dl_by_b_1, axis=0, keepdims=True)\n",
    "    summed_dl_by_b_2 = np.sum(dl_by_b_2, axis=0, keepdims=True)\n",
    "\n",
    "    if epoch == 0:\n",
    "        print(\"dl_by_w1 shape\", dl_by_w_1.shape)\n",
    "        print(\"dl_by_w2 shape\", dl_by_w_2.shape)\n",
    "\n",
    "        print(\"dl_by_b1 shape\", dl_by_b_1.shape)\n",
    "        print(\"dl_by_b2 shape\", dl_by_b_2.shape)\n",
    "        \n",
    "        print(\"Summed up dl_by_b1 shape\", summed_dl_by_b_1.shape)\n",
    "        print(\"Summed up dl_by_b2 shape\", summed_dl_by_b_2.shape)\n",
    "\n",
    "    layer_1.weights -= learning_rate * dl_by_w_1\n",
    "    layer_2.weights -= learning_rate * dl_by_w_2\n",
    "    \n",
    "    layer_1.bias -= learning_rate * summed_dl_by_b_1\n",
    "    layer_2.bias -= learning_rate * summed_dl_by_b_2\n",
    "\n",
    "\n",
    "    if epoch % 1000 == 0:\n",
    "        print(f\"Epoch {epoch}, loss: {current_loss}\")"
   ]
  },
  {
   "cell_type": "markdown",
   "metadata": {},
   "source": [
    "Czy to jest w ogóle do czegoś użyteczne? Tak. Różne rozmiary batcha w praktyce różnie wpływają na dynamikę treningu -- podobnie jak to jest z różnymi wartościami learning rate. Dobór tego parametru zależy od zbioru danych. \n",
    "\n",
    "Formalnie rzecz biorąc, algorytm Gradient Descent wymaga byśmy liczyli loss dla _całego_ zbioru danych (czyli to co zrobiliśmy teraz) -- wtedy (zakladając odpowiednio niski learning rate) mamy gwarancję znalezienia _jakiegoś_ minimum lokalnego -- ale w praktyce czasem mniejsze rozmiary batcha pozwalają nam (przypadkiem) znaleźć lepsze minimum lokalne. Stąd też dobry wybór rozmiaru batcha i learning rate'u nie jest taki oczywisty.\n",
    "\n",
    "Pojawia się pytanie -- czy jest jakiś _algorytm_ który byłby w stanie wyznaczyć nam te 2 hiperparametry? A w zasadzie nie 2 hiperparametry, bo decyzji tego typu musimy podjąć więcej: \n",
    "\n",
    "* liczba warstw w MLP?\n",
    "* rozmiar warstw w MLP?\n",
    "* jakich funkcji aktywacji użyć? \n",
    "\n",
    "Nie ma dobrej odpowiedzi na to pytanie. Są natomiast _jakieś_ odpowiedzi na to pytanie: \n",
    "\n",
    "* (żartobliwa) Grad Student Descent -- próba znajdywania dobrych hiperparametrów metodą prób i błędów (https://en.wiktionary.org/wiki/graduate_student_descent) ;) \n",
    "* Random Search -- definiujemy minimalną i maksymalną wartość danego hiperparametru (lub listę możliwych wartości) i wykonujemy losowanie każdego hiperparametru; następnie porównujemy runy treningowe według jakiejś metryki. \n",
    "* Grid Search -- podobnie jak wyżej, ale zamiast losować wartości hiperparametrów podchodzimy nieco bardziej \"metodycznie\"; ustalamy dla każdego hiperparametru listę wartości które chcemy \"przetestować\", a następnie testujemy każdą kombinację tak ustalonych hiperparametrów.\n",
    "\n",
    "\n",
    "\n",
    "\n",
    "\n",
    " "
   ]
  }
 ],
 "metadata": {
  "kernelspec": {
   "display_name": "WTLNv3",
   "language": "python",
   "name": "python3"
  },
  "language_info": {
   "codemirror_mode": {
    "name": "ipython",
    "version": 3
   },
   "file_extension": ".py",
   "mimetype": "text/x-python",
   "name": "python",
   "nbconvert_exporter": "python",
   "pygments_lexer": "ipython3",
   "version": "3.10.14"
  }
 },
 "nbformat": 4,
 "nbformat_minor": 2
}
